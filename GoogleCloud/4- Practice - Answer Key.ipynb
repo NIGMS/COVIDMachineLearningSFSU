{
 "cells": [
  {
   "cell_type": "markdown",
   "id": "328b4b3b-e1b3-4490-8f76-0241ed6c3b5c",
   "metadata": {},
   "source": [
    "# **Practice Answer Key: Let's make a NEW Decision Tree for Summer 2021 and improve our predictions!**\n"
   ]
  },
  {
   "cell_type": "markdown",
   "id": "d096f58c-168f-45bf-86f6-c8430077e862",
   "metadata": {},
   "source": [
    "# Overview \n",
    "This module contains the answer key to ***Practice: Let's make a NEW Decision Tree for Summer 2021 and improve our predictions!***.\n",
    "\n",
    "In order to expedite the making of the NEW Decision Tree, we can skip a few steps, and only copy-paste the required lines of code.\n",
    "\n",
    "*   You DON'T need to copy-paste the comments from the original code (the green text that is preceded by \"#\"). \n",
    "*   Follow instead the instructions written as a comment in this following exercise to create a NEW Decision Tree for Summer 2021 data.\n",
    "\n",
    "### **Walkthrough Solution:**\n",
    "If you feel stuck on this exercise feel free to follow the video walkthrough below by **Florentine**\n"
   ]
  },
  {
   "cell_type": "code",
   "execution_count": 1,
   "id": "72283446-4a79-480f-8ec7-d72dcf6f7a83",
   "metadata": {
    "tags": []
   },
   "outputs": [
    {
     "data": {
      "image/jpeg": "[encoded data removed]",
      "text/html": [
       "\n",
       "        <iframe\n",
       "            width=\"800\"\n",
       "            height=\"400\"\n",
       "            src=\"https://www.youtube.com/embed/eHI4wMjSGuU\"\n",
       "            frameborder=\"0\"\n",
       "            allowfullscreen\n",
       "            \n",
       "        ></iframe>\n",
       "        "
      ],
      "text/plain": [
       "<IPython.lib.display.YouTubeVideo at 0x7f28d4266410>"
      ]
     },
     "execution_count": 1,
     "metadata": {},
     "output_type": "execute_result"
    }
   ],
   "source": [
    "#Run the command below to watch the video\n",
    "from IPython.display import YouTubeVideo\n",
    "\n",
    "YouTubeVideo('eHI4wMjSGuU', width=800, height=400)"
   ]
  },
  {
   "cell_type": "markdown",
   "id": "3de0a143-4cc7-4e8d-aa5b-c10052a01d1c",
   "metadata": {},
   "source": [
    "# Learning Objectives \n",
    "- Import and Prepare Data \n",
    "    - Import necessary Python libraries. \n",
    "    - Load and separate te 2021 training dataset into features and labels. \n",
    "- Create and Train a Decision Tree Model\n",
    "    - Initalize and train a Decision Tree model using the 2021 training data. \n",
    "- Visualize and Interpret the Decision Tree\n",
    "    - Generate and interpret visual representations of the trained Decision Tree model. \n",
    "- Make Predictions and Evaluate Accuracy\n",
    "    - Use the trained model to make predictions on 2021 testing data.\n",
    "    - Compare predicted values with actual values to assess model accuracy. \n",
    "- Calculate and Compare RMSE \n",
    "    - Calculate the Root Mean Square Error (RMSE) for the 2021 model. \n",
    "    - Compare the RMSE of the 2021 model with the 2020 model to evaluate improvements. "
   ]
  },
  {
   "cell_type": "markdown",
   "id": "92d71251-8758-46aa-b8e3-d47df89220e8",
   "metadata": {},
   "source": [
    "# Prerequisites \n",
    "***Modules*** \n",
    "\n",
    "- Learning Module ***Introduction to Machine Learning: Decision Trees***\n",
    "\n",
    "***Data Sources***\n",
    "\n",
    "- [COVID cases data (California Health and Human Services Agency)](https://data.chhs.ca.gov/dataset/covid-19-time-series-metrics-by-county-and-state/resource/046cdd2b-31e5-4d34-9ed3-b48cdbc4be7a)\n",
    "- [COVID vaccination data (Los Angeles Times)](https://github.com/datadesk/california-coronavirus-data)\n",
    "- [Unemployment data (California Employment Development Dept.)](https://labormarketinfo.edd.ca.gov/data/unemployment-and-labor-force.html)\n",
    "- [Election data (Harvard University)](https://dataverse.harvard.edu/dataset.xhtml?persistentId=doi:10.7910/DVN/VOQCHQ)\n",
    "\n",
    "***Libraries/Packages***\n",
    "\n",
    "- Pandas\n",
    "- NumPy\n",
    "- Matplotlib\n",
    "- Seaborn\n",
    "- Scikit-learn"
   ]
  },
  {
   "cell_type": "markdown",
   "id": "564c5c91-57d0-442a-8ece-8719aebde237",
   "metadata": {},
   "source": [
    "# Get Started\n",
    "Copy-paste the required lines of code from ***Introduction to Machine Learning: Decision Trees*** for each section below. "
   ]
  },
  {
   "cell_type": "markdown",
   "id": "b8848232-eb1d-430b-b854-2077de1862fd",
   "metadata": {},
   "source": [
    "## **1) Repeat Step 1 (Importing Necessary Packages)**"
   ]
  },
  {
   "cell_type": "code",
   "execution_count": null,
   "id": "fa4b42e6-ac15-4f05-be80-43593f07b5d2",
   "metadata": {},
   "outputs": [],
   "source": [
    "# Data Wrangling Imports\n",
    "import pandas as pd\n",
    "import numpy as np\n",
    "\n",
    "# Machine Learning Models Imports\n",
    "from sklearn import tree\n",
    "from sklearn.tree import DecisionTreeRegressor\n",
    "\n",
    "# Model Evaluation Imports and Visualization\n",
    "from matplotlib import pyplot as plt\n",
    "!pip install graphviz\n",
    "import graphviz\n",
    "\n",
    "# Quantitative metrics of Model performance\n",
    "from sklearn.metrics import root_mean_squared_error"
   ]
  },
  {
   "cell_type": "markdown",
   "id": "6d623983-10a3-4f42-bebd-4045e2c29e98",
   "metadata": {},
   "source": [
    "## **2) Repeat Step 2A (Loading 2021 Training Data)**\n",
    "##### **NOTES: When you copy-paste code, don't forget to change 2020 into 2021, every time you see it, including the links!!** "
   ]
  },
  {
   "cell_type": "code",
   "execution_count": null,
   "id": "de7771a0-9d83-4d94-8976-9595b83de3a2",
   "metadata": {},
   "outputs": [],
   "source": [
    "# Copy-paste the code from Step 2A that will load our Summer 2021 training data\n",
    "S2021_training= pd.read_csv(\"S2021_training.csv\")"
   ]
  },
  {
   "cell_type": "markdown",
   "id": "497c33d3-6611-476b-99e1-1e9309105962",
   "metadata": {},
   "source": [
    "## **3) Repeat Step 3A (Separate Training Data into LABEL and FEATURES)**\n",
    "SKIP:\n",
    "- Steps 3B and 3C, since this step was only done to allow you to see what the labels look like once we separated it from our main training data.\n",
    "\n",
    "##### **NOTE: When you copy-paste code, don't forget to change 2020 into 2021, every time you see it!!** "
   ]
  },
  {
   "cell_type": "code",
   "execution_count": null,
   "id": "e12b600c-c282-4d2f-99b4-d3a6f78ab4fe",
   "metadata": {},
   "outputs": [],
   "source": [
    "# Copy-paste the code from Step 3A that separates the FEATURES & LABEL from the training data \n",
    "S2021_training_labels = S2021_training[\"cases_per_100000\"]\n",
    "S2021_training_features = S2021_training.drop(columns=[\"county\",\"cases_per_100000\"])"
   ]
  },
  {
   "cell_type": "markdown",
   "id": "b44cea28-b4c6-4aa0-b82a-9f4c6edecf3d",
   "metadata": {},
   "source": [
    "## **4) Repeat steps 4A and 4B (Create your Decision Tree and Train it!)**\n",
    "\n",
    "##### **NOTE: When you copy-paste code, don't forget to change 2020 into 2021, every time you see it!!** "
   ]
  },
  {
   "cell_type": "code",
   "execution_count": null,
   "id": "b2ab294d-1f15-4adb-9e96-f3122fd146bb",
   "metadata": {},
   "outputs": [],
   "source": [
    "# Copy-paste the code from Step 4A that will allow us to create our NEW Decision Tree\n",
    "dtr_summer2021 = DecisionTreeRegressor(random_state = 1, max_depth= 3)"
   ]
  },
  {
   "cell_type": "code",
   "execution_count": null,
   "id": "85b2db25-ee63-4ab7-8452-fcb52a013160",
   "metadata": {},
   "outputs": [],
   "source": [
    "# Copy-paste the code from step 4B that will train our NEW Decision Tree\n",
    "dtr_summer2021 = dtr_summer2021.fit(S2021_training_features,S2021_training_labels)"
   ]
  },
  {
   "cell_type": "markdown",
   "id": "070c4b35-1119-4e9b-ae6d-bd00c1734f5b",
   "metadata": {},
   "source": [
    "## **5) Repeat step 5 (Visualize your 2021 Decision Tree)**\n",
    "\n",
    "##### **NOTE: When you copy-paste code, don't forget to change 2020 into 2021, every time you see it!!** "
   ]
  },
  {
   "cell_type": "code",
   "execution_count": null,
   "id": "f9e07c94-5d4d-45b5-96d2-625fe9693c82",
   "metadata": {},
   "outputs": [],
   "source": [
    "# Copy-paste the code from step 5 that will let you see the NEW 2021 Decision Tree\n",
    "dtr_summer2021_dot = tree.export_graphviz(dtr_summer2021, out_file=None, \n",
    "                                feature_names=S2021_training_features.columns,  \n",
    "                                filled=False, rounded=True, impurity=False)\n",
    "\n",
    "# Draw graph\n",
    "dtr_graph = graphviz.Source(dtr_summer2021_dot, format=\"png\") \n",
    "dtr_graph"
   ]
  },
  {
   "cell_type": "markdown",
   "id": "e23a2bbb-591c-47f6-ad24-c413ca634cba",
   "metadata": {},
   "source": [
    "## **6) Repeat step 6A, 6B, 6C.1 (Load Testing Data and make your Predictions)**\n",
    "\n",
    "##### **NOTE: When you copy-paste code, don't forget to change 2020 into 2021, every time you see it!!** "
   ]
  },
  {
   "cell_type": "code",
   "execution_count": null,
   "id": "d4ce9399-0aa8-48d8-a540-3e8cbcdf7af6",
   "metadata": {},
   "outputs": [],
   "source": [
    "# Copy-paste the code from step 6A to load and see your Summer 2021 testing data\n",
    "S2021_testing_features = pd.read_csv(\"S2021_test_features.csv\")\n",
    "S2021_testing_features"
   ]
  },
  {
   "cell_type": "code",
   "execution_count": null,
   "id": "541994e6-e8a8-4c89-b8a7-7baae502bb8a",
   "metadata": {},
   "outputs": [],
   "source": [
    "# Copy-paste the code from step 6B to drop the county out of the testing data and make your predictions!\n",
    "S2021_features_test_nocounty = S2021_testing_features.drop(columns=[\"county\"])\n",
    "S2021_labels_pred = dtr_summer2021.predict(S2021_features_test_nocounty)"
   ]
  },
  {
   "cell_type": "code",
   "execution_count": null,
   "id": "66fceb09-7728-48ef-912f-4d6161d96f61",
   "metadata": {},
   "outputs": [],
   "source": [
    "# Copy-paste the code from step 6C.1 to look at the labels that our new model has predicted\n",
    "S2021_labels_preds_df = pd.DataFrame(S2021_labels_pred, columns=[\"Predicted\"])\n",
    "S2021_labels_preds_df = pd.concat([S2021_testing_features[\"county\"].reset_index(drop=True),S2021_labels_preds_df.reset_index(drop=True)],axis=1)\n",
    "S2021_labels_preds_df.round(3)"
   ]
  },
  {
   "cell_type": "markdown",
   "id": "188fd7b3-ad8c-4aae-a835-7dbb2be8bfe8",
   "metadata": {},
   "source": [
    "## **7) Repeat step 7A, 7B (Check the Accuracy of the Predictions of the new Model Created)**\n",
    "\n",
    "##### **NOTE: When you copy-paste code, don't forget to change 2020 into 2021, every time you see it!!** "
   ]
  },
  {
   "cell_type": "code",
   "execution_count": null,
   "id": "3e355d76-dabe-489a-8c81-0d839235d183",
   "metadata": {},
   "outputs": [],
   "source": [
    "# Copy-paste the code from Step 7A to load our ACTUAL 2021 labels and drop the county since it's not part of the labels per se\n",
    "S2021_testing_labels = pd.read_csv(\"S2021_test_labels.csv\")\n",
    "S2021_testing_labels = S2021_testing_labels.drop(columns=[\"county\"])"
   ]
  },
  {
   "cell_type": "code",
   "execution_count": null,
   "id": "ffd2bed9-c1bd-4c30-b869-cd8cf3c18870",
   "metadata": {},
   "outputs": [],
   "source": [
    "# Copy-paste the code from Step 7B to make a bar graph and inspect the Accuracy of your new 2021 Decision Tree model\n",
    "pred_vs_test_2021 = pd.concat([S2021_testing_labels.reset_index(drop=True),S2021_labels_preds_df.reset_index(drop=True)],axis=1)\n",
    "pred_vs_test_2021 = pred_vs_test_2021.loc[:,[\"county\", \"cases_per_100000\",\"Predicted\"]]\n",
    "pred_vs_test_plot = pred_vs_test_2021.plot.barh(color={\"Predicted\": \"hotpink\", \"cases_per_100000\": \"teal\"},x=\"county\",figsize=(15,15), yticks=np.arange(0,4000,500))"
   ]
  },
  {
   "cell_type": "markdown",
   "id": "4f751ca0-3db5-4f55-8acd-74afe0be5d9b",
   "metadata": {},
   "source": [
    "### **Walkthrough Solution:**\n",
    "If you feel stuck on this exercise feel free to follow the video walkthrough below by **Florentine**"
   ]
  },
  {
   "cell_type": "code",
   "execution_count": null,
   "id": "951a16d6-d07a-4a83-8e6c-61f256ace1d7",
   "metadata": {},
   "outputs": [],
   "source": [
    "#Run the command below to watch the video\n",
    "from IPython.display import YouTubeVideo\n",
    "\n",
    "YouTubeVideo('eHI4wMjSGuU', width=800, height=400)"
   ]
  },
  {
   "cell_type": "markdown",
   "id": "45d7f1cf-2f56-4a9f-a3e2-5b1923c47066",
   "metadata": {
    "tags": []
   },
   "source": [
    "## **8) Extra: (Calculate RMSE and create Aggregate errors histograms)** \n",
    "\n",
    "Compare the performance between the model you just created in the practice session, with the old model performance by calculating the RMSE for both and creating an aggregate errors histogram depicting both models."
   ]
  },
  {
   "cell_type": "code",
   "execution_count": null,
   "id": "623e4e38-9baf-416b-92d1-ffa1312fb20a",
   "metadata": {},
   "outputs": [],
   "source": [
    "# Creating residual for our new 2021 model\n",
    "pred_vs_test_2021['residual'] = pred_vs_test_2021['cases_per_100000'] - pred_vs_test_2021['Predicted']\n",
    "\n",
    "# observe now new model with new column\n",
    "New_model = pred_vs_test_2021\n",
    "New_model"
   ]
  },
  {
   "cell_type": "code",
   "execution_count": null,
   "id": "745a6b98-f86f-4e3f-908e-b5565871c6c2",
   "metadata": {},
   "outputs": [],
   "source": [
    "# Loading old models that will test 2021 data\n",
    "Old_model = pd.read_csv(\"Model2020pred_vs_test_2021.csv\")\n",
    "Old_model"
   ]
  },
  {
   "cell_type": "code",
   "execution_count": null,
   "id": "da31b101-37f8-400b-ac4e-631d6b6af428",
   "metadata": {},
   "outputs": [],
   "source": [
    "# Plot histogram of error aggregates for both the old and new model\n",
    "plt.title('Cases per 100k Prediction Errors')\n",
    "plt.hist(New_model['residual'], alpha=0.5, label='Model 2021')\n",
    "plt.hist(Old_model['residual'], alpha=0.5, label='Model 2020')\n",
    "plt.legend(loc='upper right')\n",
    "plt.show()"
   ]
  },
  {
   "cell_type": "code",
   "execution_count": null,
   "id": "82bf9a78-4062-4640-8561-76c623ede7bf",
   "metadata": {},
   "outputs": [],
   "source": [
    "# This calculates the RMSE for Model 2020 (OLD MODEL)\n",
    "print(f\"RMSE for Model 2020: {root_mean_squared_error(Old_model['cases_per_100000'], Old_model['Predicted'])}\")"
   ]
  },
  {
   "cell_type": "code",
   "execution_count": null,
   "id": "abeda9a5-5fa0-4544-8586-14ec531448ad",
   "metadata": {},
   "outputs": [],
   "source": [
    "# This calculates the RMSE for Model 2021 (NEW MODEL)\n",
    "print(f\"RMSE for Model 2021: {root_mean_squared_error(New_model['cases_per_100000'], New_model['Predicted'])}\")"
   ]
  },
  {
   "cell_type": "markdown",
   "id": "ce454920-68ea-4a48-85f9-7bb57f021b3f",
   "metadata": {},
   "source": [
    "# Conculsion \n",
    "In this practice, you successfully: \n",
    "\n",
    "1. **Imported and Prepared Data:** Loaded the 2021 training dataset and separated it into features and labels. \n",
    "2. **Created and Trained a Decision Tree Model:** Initalized and trained a decision tree model using the 2021 data.\n",
    "3. **Visualized and Interpreted the Decision Tree:** Generated and interpreted visual represesntation of the trained model. \n",
    "4. **Made Predictions and Evaluated Accuracy:** Predicted outcomes using the 2021 testing data and assessed model accuracy. \n",
    "5. **Calculated and Compareted RMSE:** Calculated the RMSE for the 2021 model and compared it with the 2020 model.\n",
    "\n",
    "By completing this module, you have reinforced your understanding of decision trees and gained practical experience in adapting machine learning models to new data. This practice not only enhances your technical skills but also prepares you for real-world applications where models need to be continuously updated and evaluated. Keep exploring and refining your models to achieve even better predictions and insights! "
   ]
  },
  {
   "cell_type": "markdown",
   "id": "c71ade49-289b-4211-b75c-1d98c0af452f",
   "metadata": {
    "tags": []
   },
   "source": [
    "# Clean up\n",
    "\n",
    "To keep your workspaced organized remember to: \n",
    "\n",
    "1. Save your work.\n",
    "2. Close any notebooks and active sessions to avoid extra charges."
   ]
  }
 ],
 "metadata": {
  "environment": {
   "kernel": "python3",
   "name": "common-cpu.m108",
   "type": "gcloud",
   "uri": "gcr.io/deeplearning-platform-release/base-cpu:m108"
  },
  "kernelspec": {
   "display_name": "conda_python3",
   "language": "python",
   "name": "conda_python3"
  },
  "language_info": {
   "codemirror_mode": {
    "name": "ipython",
    "version": 3
   },
   "file_extension": ".py",
   "mimetype": "text/x-python",
   "name": "python",
   "nbconvert_exporter": "python",
   "pygments_lexer": "ipython3",
   "version": "3.10.14"
  }
 },
 "nbformat": 4,
 "nbformat_minor": 5
}
