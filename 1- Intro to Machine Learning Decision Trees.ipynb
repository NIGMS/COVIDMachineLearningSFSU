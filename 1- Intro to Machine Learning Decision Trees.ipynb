{
 "cells": [
  {
   "cell_type": "markdown",
   "id": "85be35e8-c134-4ba4-ac3d-fe95bc106ff4",
   "metadata": {
    "tags": []
   },
   "source": [
    "# **WELCOME to Introduction to Machine Learning: Decision Trees!**\n",
    "\n",
    "This notebook was created by Lucy Moctezuma Tan, Florentine van Nouhuijs, Lorena Benitez-Rivera (SFSU master students and CoDE lab members) and Pleuni Pennings (SFSU bio professor).\n",
    "Special Acknowledgement to Faye Orcales for pulling the Covid Data tables from Government Websites\n",
    "\n",
    "**Data sources:**\n",
    "- [Covid cases data (California Health and Human Services Agency)](https://data.chhs.ca.gov/dataset/covid-19-time-series-metrics-by-county-and-state/resource/046cdd2b-31e5-4d34-9ed3-b48cdbc4be7a)\n",
    "- [Covid Vaccination data (Los Angeles Times)](https://github.com/datadesk/california-coronavirus-data)\n",
    "- [Unemployment data (California Employment Development Dept.)](https://data.edd.ca.gov/Labor-Force-and-Unemployment-Rates/Local-Area-Unemployment-StatisticsdecisionLAUS-/e6gw-gvii)\n",
    "- [Election data (Harvard University)](https://dataverse.harvard.edu/dataset.xhtml?persistentId=doi:10.7910/DVN/VOQCHQ)\n",
    "\n",
    "# **Introduction Video:**\n",
    "\n",
    "It's important to note that there are other Machine Learning Techniques, but the aim of this notebook will be to have a basic understanding of one of the fundamental techniques used: Decision Tree. This is ideal because Decision Trees are the basis for more complex models such as Boosted Trees or Random Forests. Below we have a general introduction video to Machine Learning by Lorena Benitez."
   ]
  },
  {
   "cell_type": "code",
   "execution_count": null,
   "id": "3ed9d402-5f72-448f-9af1-dd2b30a7d970",
   "metadata": {},
   "outputs": [],
   "source": [
    "from IPython.display import HTML\n",
    "HTML('<iframe src=\"https://player.vimeo.com/video/721612530?title=0&byline=0&portrait=0\" width=\"700\" height=\"394\" frameborder=\"0\" webkitallowfullscreen mozallowfullscreen allowfullscreen></iframe><p><a href=\"https://vimeo.com/721612530\">Welcome Video</a> from <a href=\"https://vimeo.com/showcase/9557969/video/721612530\">Introduction to Machine Learning: Decision Trees</a> on <a href=\"https://vimeo.com\">Vimeo</a>.</p>')"
   ]
  },
  {
   "cell_type": "markdown",
   "id": "c8edf990-07a7-4b8f-9344-3cee67bc389f",
   "metadata": {},
   "source": [
    "# OBJECTIVE OF THIS EXERCISE:"
   ]
  },
  {
   "cell_type": "code",
   "execution_count": null,
   "id": "9bb55afa-f5e8-43b8-9c9f-2fa8ffa3b233",
   "metadata": {},
   "outputs": [],
   "source": [
    "HTML('<iframe src=\"https://player.vimeo.com/video/747875559?title=0&byline=0&portrait=0\" width=\"700\" height=\"394\" frameborder=\"0\" webkitallowfullscreen mozallowfullscreen allowfullscreen></iframe><p><a href=\"https://vimeo.com/747875559\">Notebook Objectives</a> from <a href=\"https://vimeo.com/showcase/9807396/video/747875559\"><a href=\"https://vimeo.com\">Vimeo</a>.</p>')"
   ]
  },
  {
   "cell_type": "markdown",
   "id": "70bbc537-63d0-44f9-8705-0f0fb3dc494d",
   "metadata": {},
   "source": [
    "\n",
    "We are going to be working with **COVID data** from the 58 Counties of California during Summer 2020 (July, August and September).  \n",
    "\n",
    "**Remember the complete dataset with 58 counties from the previous video of this workshop?** \n",
    "\n",
    "Let's now imagine that we did not know the **cases per 100 000 people** for the last 18 counties of the datataset. \n",
    "\n",
    "![Features-for-Prediction.jpg](images/Features-for-Prediction.jpg)\n",
    "\n",
    "**The Objective** of this exercise will be to make predictions for these missing values in the column **cases per 100 000 people** based solely on the data that we do have available.\n",
    "\n",
    "The information that we still have available for these 18 counties are:\n",
    "\n",
    "*   Population\n",
    "*   Vaccination Percentage (Partial and Fully vaccinated)\n",
    "*   Unemployment Rates\n",
    "*   Partisan Voting Percentage (Democrat, Green, Republican, Libertarian and Other)\n",
    "\n",
    "In order to do this, we will be creating a **DECISION TREE**"
   ]
  },
  {
   "cell_type": "markdown",
   "id": "aa92caaa-5b27-4db5-946d-c77c2069c980",
   "metadata": {},
   "source": [
    "# WHAT IS A DECISION TREE?\n",
    "\n",
    " A **Decision Tree** is a supervised machine learning model that allows us to make predictions by learning simple decision rules that are inferred using available information in the dataset. \n",
    " \n",
    "- A Decision Tree is called a **\"Supervised\"**  model because we know exactly what we want to figure out. For example, for our Decision Tree, we will specify that we want to figure out the missing values of the column **\"Cases per 100 000 people\"**, and our model will try to find these values by making predictions for them using the the information we do have available.\n",
    "\n",
    "- In contrast, in an **\"Unsupervised\"**  model, we do not know exactly what we want to predict for. Instead, an Unsupervised model finds hidden relationships between different types of information and can group them based on similaries. For example, Netflix surprising you with a new show you like.\n",
    "\n",
    "A **Decision Tree** can be pictured as a tree-like flowchart, where we start with a particular criteria and based on whether this is True (Y for Yes) or False (N for No), we chose only one of the branches. This process is then repeated at every decision until we reach the bottom of the tree, where we end up with a specific prediction. \n",
    "\n",
    "![General-Decision-Tree.png](images/General-Decision-Tree.png)\n",
    "\n",
    "We will see how a Decision Tree can help us predict the missing **cases per 100 000 people** in more detail later on in this tutorial.\n",
    "\n",
    "You can find more information about different ways to clasify machine learning models here: [Machine Learning Models](https://www.geeksforgeeks.org/introduction-machine-learning/?ref=lbp)\n",
    "\n",
    "You can find more information about Decision Trees here: [Scikit-learn](https://scikit-learn.org/stable/modules/tree.html)"
   ]
  },
  {
   "cell_type": "markdown",
   "id": "c7d3fb42-e3f7-4b3b-a14e-c100c4382491",
   "metadata": {
    "tags": []
   },
   "source": [
    "## **Step 1) Importing necessary packages into the Notebook**"
   ]
  },
  {
   "cell_type": "code",
   "execution_count": null,
   "id": "2b05d4b9-e1f5-4892-867b-35b81b717aa1",
   "metadata": {},
   "outputs": [],
   "source": [
    "HTML('<iframe src=\"https://player.vimeo.com/video/747875607?title=0&byline=0&portrait=0\" width=\"700\" height=\"394\" frameborder=\"0\" webkitallowfullscreen mozallowfullscreen allowfullscreen></iframe><p><a href=\"https://vimeo.com/747875607\">Step 1</a> from <a href=\"https://vimeo.com/showcase/9807396/video/747875607\"><a href=\"https://vimeo.com\">Vimeo</a>.</p>')"
   ]
  },
  {
   "cell_type": "markdown",
   "id": "d9580610-6745-44a1-99ca-2e71d88b3910",
   "metadata": {},
   "source": [
    "\n",
    "Before working on our model we need to import all Packages and specific Functions that we will need to use in order to work with our data. \n",
    "\n",
    "- **Packages** are essentially prepackaged code that others have made, that are often organized in chunks of code called modules, A package can contain many modules and these modules may contain several functions. \n",
    "\n",
    "- **Functions** are essentially a set of instructions to a computer that specify how to handle different types of files, what mathematical equations are used to calculate our model, how our graphs are going to be displayed, etc. \n",
    "\n",
    "The code in this notebook is organized in **Cells**\n",
    "\n",
    "In the example below we will learn how to execute or \"run\" each of the three cells, so that our code actually takes effect.To run the code in a cell select the cell and press the play button on the upper part of the notebook menu. \n",
    "\n",
    "**Note**: `The lines of green text that are preceded by a \"#\" are called comments, they exist only to provide explanations of what each line or chunk of code does. They are not actually part of the code.`"
   ]
  },
  {
   "cell_type": "code",
   "execution_count": null,
   "id": "5ddada1e-aae9-4b22-87ae-022e0b96a053",
   "metadata": {},
   "outputs": [],
   "source": [
    "# Data Wrangling Imports\n",
    "import pandas as pd\n",
    "import numpy as np"
   ]
  },
  {
   "cell_type": "code",
   "execution_count": null,
   "id": "a24d2226-35ca-451b-85d4-757c93eab78a",
   "metadata": {},
   "outputs": [],
   "source": [
    "# Machine Learning Models Imports\n",
    "from sklearn import tree\n",
    "from sklearn.tree import DecisionTreeRegressor "
   ]
  },
  {
   "cell_type": "code",
   "execution_count": null,
   "id": "6b29cad9-0cb2-40c8-959a-177b86019a3f",
   "metadata": {},
   "outputs": [],
   "source": [
    "# Model Evaluation Imports and Visualization\n",
    "from matplotlib import pyplot as plt\n",
    "!pip install graphviz\n",
    "import graphviz"
   ]
  },
  {
   "cell_type": "markdown",
   "id": "ba92c612-e851-4c76-8551-4bf12daea579",
   "metadata": {},
   "source": [
    "## **Step 2) Loading Training data and making sure it looks correct**"
   ]
  },
  {
   "cell_type": "code",
   "execution_count": null,
   "id": "4f7561be-fa34-479e-95d1-62ef4bcdfc29",
   "metadata": {},
   "outputs": [],
   "source": [
    "HTML('<iframe src=\"https://player.vimeo.com/video/747875643?title=0&byline=0&portrait=0\" width=\"700\" height=\"394\" frameborder=\"0\" webkitallowfullscreen mozallowfullscreen allowfullscreen></iframe><p><a href=\"https://vimeo.com/747875643\">Step 2</a> from <a href=\"https://vimeo.com/showcase/9807396/video/747875643\"><a href=\"https://vimeo.com\">Vimeo</a>.</p>')"
   ]
  },
  {
   "cell_type": "markdown",
   "id": "002bea86-95cb-4076-b05a-aa34bcbceb15",
   "metadata": {},
   "source": [
    "\n",
    "Now that we have our tools, we can now examine our Dataset again. \n",
    "\n",
    "Recall that we are missing the last 18 values of in the column \"cases_per 100 000\", but we still have a big chunk of complete data (40 rows). This chunk of complete information is often referred to as **Training Data**.\n",
    "\n",
    "![Training-Data.jpg](images/Training-Data.jpg)\n",
    "\n",
    "**Training Data** is a machine learning terminology that refers to the Dataset used to teach our Decision Tree to make the predictions for our missing values using available data."
   ]
  },
  {
   "cell_type": "markdown",
   "id": "874fc63a-d033-410b-a080-adce8dd7185c",
   "metadata": {},
   "source": [
    "**A)** Let's start by Loading our Training Data into the Notebook:"
   ]
  },
  {
   "cell_type": "code",
   "execution_count": null,
   "id": "caab38bd-bbb1-478b-b17c-8bd15bd07802",
   "metadata": {},
   "outputs": [],
   "source": [
    "#this opens the file that contains the training data, data used to train the algorithm \n",
    "S2020_training= pd.read_csv(\"data/S2020_training.csv\")"
   ]
  },
  {
   "cell_type": "markdown",
   "id": "cbaf2e30-2eaf-4a21-9932-99d7bf8c22ba",
   "metadata": {},
   "source": [
    "**B)** Make sure that your dataset is loaded correctly, it should contain the county names and all the data highlighted in green shown in our last picture:"
   ]
  },
  {
   "cell_type": "code",
   "execution_count": null,
   "id": "3eabc08f-2002-4adb-b380-08c26ef968a6",
   "metadata": {},
   "outputs": [],
   "source": [
    "#this will display the entire dataset \n",
    "S2020_training"
   ]
  },
  {
   "cell_type": "markdown",
   "id": "d2eb357a-859b-446d-bfed-514d0c20f819",
   "metadata": {},
   "source": [
    "**C)** We can sneak a peak at what our first 5 rows look like, if your dataset is too big to be displayed."
   ]
  },
  {
   "cell_type": "code",
   "execution_count": null,
   "id": "1d1b826c-2346-4452-80db-cc34a731856c",
   "metadata": {},
   "outputs": [],
   "source": [
    "#this will display only the first 5 rows of our dataset\n",
    "S2020_training.head()"
   ]
  },
  {
   "cell_type": "markdown",
   "id": "c1fafa09-54f7-422b-9f77-07d816beb038",
   "metadata": {},
   "source": [
    "**D)** Here we can see how many rows and columns the complete dataset actually has. In our example we should have (40 rows, 11 columns)"
   ]
  },
  {
   "cell_type": "code",
   "execution_count": null,
   "id": "af0570f1-4334-4be4-90fc-08aa4c425cb0",
   "metadata": {},
   "outputs": [],
   "source": [
    "#this will display only the number of rows (not including the title of the columns) and number of colums of our dataset\n",
    "S2020_training.shape"
   ]
  },
  {
   "cell_type": "markdown",
   "id": "5e1e56f1-3454-4d23-8654-44d4a0d29f81",
   "metadata": {},
   "source": [
    "## **Step 3) Separate the Training Dataset into features and labels**"
   ]
  },
  {
   "cell_type": "code",
   "execution_count": null,
   "id": "b261c100-55d5-4d4d-b052-16d033395e30",
   "metadata": {},
   "outputs": [],
   "source": [
    "HTML('<iframe src=\"https://player.vimeo.com/video/747875687?title=0&byline=0&portrait=0\" width=\"700\" height=\"394\" frameborder=\"0\" webkitallowfullscreen mozallowfullscreen allowfullscreen></iframe><p><a href=\"https://vimeo.com/747875687\">Step 3</a> from <a href=\"https://vimeo.com/showcase/9807396/video/747875687\"><a href=\"https://vimeo.com\">Vimeo</a>.</p>')"
   ]
  },
  {
   "cell_type": "markdown",
   "id": "435f149e-a9fe-4b6b-be5d-3033fb6d84d0",
   "metadata": {},
   "source": [
    "Recall that a Decision Tree is a **Supervised** Machine learning model, therefore we need to specify clearly what we are trying to predict.\n",
    "\n",
    "To do this we need to devide the Training Data into **Label** and **Features**\n",
    "\n",
    "![Label-and-Features.jpg](images/Label-and-Features.jpg)\n",
    "\n",
    "- The RED outlined column is called a **LABEL**. This is a machine learning term that refers to the data that our model will learn to predict.\n",
    "\n",
    "- The BLUE outlined columns are called **FEATURES**, which is the term that refers to the columns we would like to use to predict our chosen LABEL. \n",
    "\n",
    "Because the **Training Data** is complete, We can clearly separate LABEL from FEATURES. Remember that the Training Data is only the red and blue shaded regions of our Dataset. \n",
    "\n",
    "We can ignore the rest of the Dataset for now.\n",
    "\n",
    "**A)** Separate the Training Data into FEATURES and LABELS:"
   ]
  },
  {
   "cell_type": "code",
   "execution_count": null,
   "id": "7feef3b4-b0b8-41d0-b4b1-c1294753bd3f",
   "metadata": {},
   "outputs": [],
   "source": [
    "#On the other hand the label will only include summer_2020 cases per 100 000\n",
    "S2020_training_labels = S2020_training[\"cases_per_100000\"]\n",
    "\n",
    "#Notice that in this code we are droping the \"county\" column, because it does not contribute with our predictions and \"cases_per_100000\" because that is our label\n",
    "S2020_training_features = S2020_training.drop(columns=[\"county\",\"cases_per_100000\"])"
   ]
  },
  {
   "cell_type": "markdown",
   "id": "775e163b-ac56-40c8-a12c-89f13bfbce30",
   "metadata": {},
   "source": [
    "**B)** Run the **LABEL** to check that the separation was correctly performed (you should see 40 rows and just 1 column):"
   ]
  },
  {
   "cell_type": "code",
   "execution_count": null,
   "id": "49d72928-e153-4617-808d-9fb0140ef3dd",
   "metadata": {},
   "outputs": [],
   "source": [
    "#This code allows you to see what the labels look like as a dataframe, after being separated from the training data\n",
    "S2020_training_labels = pd.DataFrame(S2020_training_labels,columns = [\"cases_per_100000\"])\n",
    "\n",
    "# This code tells you how many rows and columns this dataset has\n",
    "S2020_training_labels.shape"
   ]
  },
  {
   "cell_type": "markdown",
   "id": "05b69eb8-d593-453b-9786-432dd425c612",
   "metadata": {},
   "source": [
    "**C)** Run the **FEATURES** to check that the separation was correctly performed (you should see all 40 rows and 9 columns only since we dropped the columns of \"county\" and \"cases_per_100000\")"
   ]
  },
  {
   "cell_type": "code",
   "execution_count": null,
   "id": "1a75f401-1966-4628-b4fc-ee285bc8a595",
   "metadata": {},
   "outputs": [],
   "source": [
    "# This code shows\n",
    "S2020_training_features.shape"
   ]
  },
  {
   "cell_type": "markdown",
   "id": "6a76b309-f312-425f-a4ac-e2ef7dacbfe0",
   "metadata": {},
   "source": [
    "## **Step 4) Create a Decision tree object and Train it**"
   ]
  },
  {
   "cell_type": "code",
   "execution_count": null,
   "id": "d8b5abf2-94fe-4e2d-b24a-3b185b08c88e",
   "metadata": {},
   "outputs": [],
   "source": [
    "HTML('<iframe src=\"https://player.vimeo.com/video/747875711?title=0&byline=0&portrait=0\" width=\"700\" height=\"394\" frameborder=\"0\" webkitallowfullscreen mozallowfullscreen allowfullscreen></iframe><p><a href=\"https://vimeo.com/747875711\">Step 4</a> from <a href=\"https://vimeo.com/showcase/9807396/video/747875711\"><a href=\"https://vimeo.com\">Vimeo</a>.</p>')"
   ]
  },
  {
   "cell_type": "markdown",
   "id": "e82423a6-36cc-4898-aacb-727f98e9ffc1",
   "metadata": {},
   "source": [
    "After separating our Training data into FEATURES and LABELS, we can now create a Decision Tree. \n",
    "\n",
    "**A)** Create a Decision Tree Object"
   ]
  },
  {
   "cell_type": "code",
   "execution_count": null,
   "id": "1af78ddd-dc00-4298-9732-94684886a7b7",
   "metadata": {},
   "outputs": [],
   "source": [
    "#This line creates the Decison Tree with your chosen specifications (what is written within the parenthesis)\n",
    "dtr_summer2020 = DecisionTreeRegressor(random_state = 1, max_depth= 3)"
   ]
  },
  {
   "cell_type": "markdown",
   "id": "9a337b10-ecaf-4b2e-921f-5b830ac4f7a2",
   "metadata": {},
   "source": [
    "**B)** Train our Decision Tree using the Training data we separated in the previous step"
   ]
  },
  {
   "cell_type": "code",
   "execution_count": null,
   "id": "ac3b1e35-0609-4f64-bac6-c42537cb3694",
   "metadata": {},
   "outputs": [],
   "source": [
    "# This line trains the decision tree using both the features and the labels from our training data\n",
    "dtr_summer2020 = dtr_summer2020.fit(S2020_training_features,S2020_training_labels)"
   ]
  },
  {
   "cell_type": "markdown",
   "id": "dbaec858-5a15-4727-b9fb-ac1d6bd08fd8",
   "metadata": {},
   "source": [
    "## **Step 5) Visualize our trained Decision Tree**"
   ]
  },
  {
   "cell_type": "code",
   "execution_count": null,
   "id": "c8c03608-f9d7-43d0-abd3-757b6196023e",
   "metadata": {},
   "outputs": [],
   "source": [
    "HTML('<iframe src=\"https://player.vimeo.com/video/747875740?title=0&byline=0&portrait=0\" width=\"700\" height=\"394\" frameborder=\"0\" webkitallowfullscreen mozallowfullscreen allowfullscreen></iframe><p><a href=\"https://vimeo.com/747875740\">Step 5</a> from <a href=\"https://vimeo.com/showcase/9807396/video/747875740\"><a href=\"https://vimeo.com\">Vimeo</a>.</p>')"
   ]
  },
  {
   "cell_type": "markdown",
   "id": "96d80ff1-924c-4aef-ad9d-68634911deb9",
   "metadata": {},
   "source": [
    "Visualize our decision tree by graphing it using the following code "
   ]
  },
  {
   "cell_type": "code",
   "execution_count": null,
   "id": "68789480-9f14-43ab-b49a-145bf462b132",
   "metadata": {},
   "outputs": [],
   "source": [
    "# Initialize tree data object \n",
    "dtr_summer2020_dot = tree.export_graphviz(dtr_summer2020, out_file=None, \n",
    "                                feature_names=S2020_training_features.columns,  \n",
    "                                filled=False, rounded=True, impurity=False)\n",
    "\n",
    "# Draw graph\n",
    "dtr_graph = graphviz.Source(dtr_summer2020_dot, format=\"png\") \n",
    "dtr_graph"
   ]
  },
  {
   "cell_type": "markdown",
   "id": "4b6af3a1-3ba0-4759-9883-6d03123548ae",
   "metadata": {},
   "source": [
    "### Let's try to understand what our tree learned!\n",
    "\n",
    "- **NODES** contain the Decision that must be made based on a particular criteria. You can see that nodes have 2 arrows pointing away from them. All arrows to the LEFT are taken when the criteria is satisfied, and all arrows to the RIGHT are taken when this criteria is not satisfied.\n",
    "\n",
    "- **ROOT NODE**, this node is what our model determined as the most important feature to consider when making our predictions. It tells you the feature that best splits the data and it's located at the top of the tree.\n",
    "\n",
    "- **LEAVES** contain the final outcome of the Decision path. You can see that leaves do not have arrows pointing away from them."
   ]
  },
  {
   "cell_type": "markdown",
   "id": "9dd48904-36b7-4747-b9e9-8b6c985ff049",
   "metadata": {},
   "source": [
    "## **Step 6) Make predictions using Testing data with our trained Decision Tree**"
   ]
  },
  {
   "cell_type": "code",
   "execution_count": null,
   "id": "5d0d1906-bc34-4a59-b05f-99167175ac7c",
   "metadata": {},
   "outputs": [],
   "source": [
    "HTML('<iframe src=\"https://player.vimeo.com/video/747875773?title=0&byline=0&portrait=0\" width=\"700\" height=\"394\" frameborder=\"0\" webkitallowfullscreen mozallowfullscreen allowfullscreen></iframe><p><a href=\"https://vimeo.com/747875773\">Step 6</a> from <a href=\"https://vimeo.com/showcase/9807396/video/747875773\"><a href=\"https://vimeo.com\">Vimeo</a>.</p>')"
   ]
  },
  {
   "cell_type": "markdown",
   "id": "c56def25-4c94-4de1-a0a8-02b5075988eb",
   "metadata": {},
   "source": [
    "We are now ready to make predictions for the counties that had the missing labels.\n",
    "\n",
    "**Below is an image showing what constitutes the Testing Data in our example**\n",
    "\n",
    "![Testing-Data.jpg](images/Testing-Data.jpg)\n",
    " \n",
    "In Machine learning we usually call the part of the dataset that only contains the FEATURE columns as **Testing Data**. \n",
    "\n",
    "The **Testing Data** is the dataset that is used to predict the missing values of the LABEL column, based on the rules learned during the training phase.\n",
    "\n",
    "Recall that our Decision Tree Model has only been taught using the Training data (40 counties) and has never seen any of the columns of the Testing data (18 counties)."
   ]
  },
  {
   "cell_type": "markdown",
   "id": "20da60cd-48c3-4acb-be33-dc4565d3947a",
   "metadata": {},
   "source": [
    "**A)** Let's load the Testing Data that correspond to the counties with the missing label and see what it looks like."
   ]
  },
  {
   "cell_type": "code",
   "execution_count": null,
   "id": "d5c75c05-745c-4c0c-bf31-c839e43c9ed5",
   "metadata": {},
   "outputs": [],
   "source": [
    "#this opens the file that contains the features testing data, features = data used to make a prediction\n",
    "S2020_testing_features = pd.read_csv(\"data/S2020_test_features.csv\")\n",
    "\n",
    "#this let's you see the loaded Testing Data \n",
    "S2020_testing_features"
   ]
  },
  {
   "cell_type": "markdown",
   "id": "046ef181-0158-4fb3-a726-42046fa4e713",
   "metadata": {},
   "source": [
    "**B)** Lets Drop the county names from the Dataset and make our predictions!"
   ]
  },
  {
   "cell_type": "code",
   "execution_count": null,
   "id": "c9062cad-cde4-4596-a7e5-08203fd77dd7",
   "metadata": {},
   "outputs": [],
   "source": [
    "#this drops the \"county\" column from our test dataset\n",
    "S2020_features_test_nocounty = S2020_testing_features.drop(columns=[\"county\"])\n",
    "\n",
    "#this uses the tree we created and makes the predictions\n",
    "S2020_labels_pred = dtr_summer2020.predict(S2020_features_test_nocounty)"
   ]
  },
  {
   "cell_type": "markdown",
   "id": "33e5fb42-21b8-4983-ade9-83182ef070a4",
   "metadata": {},
   "source": [
    "**C.1)** Let's look at what labels our model predicted and check how it relates to our Decision Tree:\n",
    "\n",
    "![COVID-Decision-Tree.PNG](images/COVID-Decision-Tree.PNG)"
   ]
  },
  {
   "cell_type": "code",
   "execution_count": null,
   "id": "2b43dd45-625b-4495-9cb8-2bd08e459d75",
   "metadata": {},
   "outputs": [],
   "source": [
    "# This turns our predictions (which is currently an array) into a dataframe \n",
    "S2020_labels_preds_df = pd.DataFrame(S2020_labels_pred, columns=[\"Predicted\"])\n",
    "\n",
    "# this line adds the County name back, so that you can see what was perdicted for each county\n",
    "S2020_labels_preds_df = pd.concat([S2020_testing_features[\"county\"].reset_index(drop=True),S2020_labels_preds_df.reset_index(drop=True)],axis=1)\n",
    "\n",
    "# this lets us see what was predicted\n",
    "S2020_labels_preds_df.round(3)"
   ]
  },
  {
   "cell_type": "markdown",
   "id": "9c5c9ddc-f972-424a-baaf-e5876ff0d847",
   "metadata": {},
   "source": [
    "**C.2)** Why did the model predict 702.806 for San Francisco County?\n",
    "\n",
    "Run the cell bellow and look at the output, follow the tree as described in the video to see that this county has: \n",
    "- Unemployment Rate =< 0.123\n",
    "- Population > 28453.0\n",
    "- Green_votes_percentage > 0.005\n",
    "\n",
    "Feel free to try another county and check for yourself that it follows these rules, by changing the county name in the code below:"
   ]
  },
  {
   "cell_type": "code",
   "execution_count": null,
   "id": "ff7dd8fa-a9b3-4570-923a-882f198d53b3",
   "metadata": {},
   "outputs": [],
   "source": [
    "# Loading the testing features for San Francisco County\n",
    "S2020_testing_features[S2020_testing_features['county']=='San Francisco'] # change 'San Francisco' to any other county in the list above that you are interested in"
   ]
  },
  {
   "cell_type": "markdown",
   "id": "aff22ea7-270b-47dd-ba7f-a2a62ba1cfe5",
   "metadata": {},
   "source": [
    "## **Step 7) Let's see How our Decicion Tree Model Performed**"
   ]
  },
  {
   "cell_type": "code",
   "execution_count": null,
   "id": "9a11c706-b8ba-4b5c-bfde-eed545a00248",
   "metadata": {},
   "outputs": [],
   "source": [
    "HTML('<iframe src=\"https://player.vimeo.com/video/747875827?title=0&byline=0&portrait=0\" width=\"700\" height=\"394\" frameborder=\"0\" webkitallowfullscreen mozallowfullscreen allowfullscreen></iframe><p><a href=\"https://vimeo.com/747875827\">Step 7</a> from <a href=\"https://vimeo.com/showcase/9807396/video/747875827\"><a href=\"https://vimeo.com\">Vimeo</a>.</p>')"
   ]
  },
  {
   "cell_type": "markdown",
   "id": "a9d8738a-f8b2-4679-9ed5-d7748aaf6bf9",
   "metadata": {},
   "source": [
    "Now that we have predicted the missing labels for Summer 2020 cases. Let's see how our model did by comparing it with the actual labels!\n",
    "\n",
    "**A)** Let's Reveal now our ACTUAL labels by loading them into the Notebook"
   ]
  },
  {
   "cell_type": "code",
   "execution_count": null,
   "id": "3cd40255-1bd5-4d11-8f6f-1b9bd29718c0",
   "metadata": {},
   "outputs": [],
   "source": [
    "#this opens the file that contains the label testing data, label = what we want to predict\n",
    "S2020_testing_labels = pd.read_csv(\"data/S2020_test_labels.csv\")\n",
    "\n",
    "# This drops the county on our label data so that the dataframe only has one column with county names when is joined with the predicted dataframe\n",
    "S2020_testing_labels = S2020_testing_labels.drop(columns=[\"county\"])"
   ]
  },
  {
   "cell_type": "markdown",
   "id": "4037a417-05e3-43e5-b63e-a3562da3c44b",
   "metadata": {},
   "source": [
    "**B)** We can use a Bargraph to help us visually inspect how our model performed"
   ]
  },
  {
   "cell_type": "code",
   "execution_count": null,
   "id": "e7cc9c31-b0cd-4bd6-a544-4c0b143d50c8",
   "metadata": {},
   "outputs": [],
   "source": [
    "#This puts into a single dataframe our predictions with our original test labels \n",
    "pred_vs_test_2020 = pd.concat([S2020_testing_labels.reset_index(drop=True),S2020_labels_preds_df.reset_index(drop=True)],axis=1)\n",
    "\n",
    "#This plots the data in a barchart per county\n",
    "pred_vs_test_plot = pred_vs_test_2020.plot.barh(color={\"Predicted\": \"orange\", \"cases_per_100000\": \"darkblue\"},x=\"county\",figsize=(15,15), yticks=np.arange(0,4000,500))\n"
   ]
  },
  {
   "cell_type": "markdown",
   "id": "0ae29213-1635-4a51-9593-20a59bf2a60e",
   "metadata": {},
   "source": [
    "## **Step 8) Let's try using our Summer 2020 Tree model to predict 2021 Data**"
   ]
  },
  {
   "cell_type": "code",
   "execution_count": null,
   "id": "fee74988-b620-4941-89f1-1d6ebb5ef0cc",
   "metadata": {},
   "outputs": [],
   "source": [
    "HTML('<iframe src=\"https://player.vimeo.com/video/714289135?title=0&byline=0&portrait=0\" width=\"700\" height=\"394\" frameborder=\"0\" webkitallowfullscreen mozallowfullscreen allowfullscreen></iframe><p><a href=\"https://vimeo.com/714289135\">Video Recap</a> from <a href=\"https://vimeo.com/showcase/9557969/video/714289135\">Introduction to Machine Learning: Decision Trees</a> on <a href=\"https://vimeo.com\">Vimeo</a>.</p>')"
   ]
  },
  {
   "cell_type": "markdown",
   "id": "e6d838dc-e9fe-4721-b866-07068f5126b3",
   "metadata": {},
   "source": [
    "**A)** Let's Load the Features information for the same 18 counties, but this time for Summer 2021."
   ]
  },
  {
   "cell_type": "code",
   "execution_count": null,
   "id": "3712f5eb-75ad-4f96-9106-9b51a19c0831",
   "metadata": {},
   "outputs": [],
   "source": [
    "#Importing Summer 2021 Data to predict using \"Summer2020 Model\"\n",
    "S2021_testing_features = pd.read_csv(\"data/S2021_test_features.csv\")\n",
    "\n",
    "# make predictions for Summer 2021 Data\n",
    "S2021_labels_pred = dtr_summer2020.predict(S2021_testing_features.drop(columns=[\"county\"]))"
   ]
  },
  {
   "cell_type": "markdown",
   "id": "1c8d062d-42b2-419c-a703-a3a4537fdfb0",
   "metadata": {},
   "source": [
    "**B)** Let's now load the Actual 2021 Summer data and see how our 2020 Decision Tree Model Performed this time."
   ]
  },
  {
   "cell_type": "code",
   "execution_count": null,
   "id": "339a8fbb-da3a-40c9-ac89-2eeb8bee9138",
   "metadata": {
    "tags": []
   },
   "outputs": [],
   "source": [
    "#Importing Labels of Summer 2021 Data to check accuracy of \"Summer2020 Model\" predicting Summer2021 Data\n",
    "S2021_testing_labels = pd.read_csv(\"data/S2021_test_labels.csv\")\n",
    "\n",
    "# This turns our predictions (which is currently an array) into a dataframe \n",
    "S2021_labels_preds = pd.DataFrame(S2021_labels_pred, columns=[\"Predicted\"])\n",
    "\n",
    "# #This puts into a single dataframe our predictions with our original test labels \n",
    "pred_vs_test_2021 = pd.concat([S2021_testing_labels.reset_index(drop=True),S2021_labels_preds.reset_index(drop=True)],axis=1)\n",
    "\n",
    "#Visualize performance for Summer 2021 predictions\n",
    "pred_vs_test_plot = pred_vs_test_2021.plot.barh(color={\"Predicted\": \"orange\", \"cases_per_100000\": \"teal\"},x=\"county\",figsize=(15,15), yticks=np.arange(0,4000,500))"
   ]
  },
  {
   "cell_type": "markdown",
   "id": "6ef11332-1228-4fe5-97f0-a4fb5ae924bf",
   "metadata": {},
   "source": [
    "#### Please run the additional cell below if you are planning to Work on the (Optional) Quant. Comparison of 2020 DT Model Performance for (2020 vs 2021) Data"
   ]
  },
  {
   "cell_type": "code",
   "execution_count": null,
   "id": "e2ba12ba-dfb4-4b44-98c0-e2fdb0226a86",
   "metadata": {},
   "outputs": [],
   "source": [
    "# lets's save our comparison dataframes as a csv for a more quantitative analysis\n",
    "# We will revisit these on the next Notebook.\n",
    "pred_vs_test_2020.to_csv('Model2020pred_vs_test_2020.csv', encoding='utf-8',index=False)\n",
    "pred_vs_test_2021.to_csv('Model2020pred_vs_test_2021.csv', encoding='utf-8',index=False)"
   ]
  }
 ],
 "metadata": {
  "environment": {
   "kernel": "python3",
   "name": "r-cpu.4-2.m100",
   "type": "gcloud",
   "uri": "gcr.io/deeplearning-platform-release/r-cpu.4-2:m100"
  },
  "kernelspec": {
   "display_name": "Python 3",
   "language": "python",
   "name": "python3"
  },
  "language_info": {
   "codemirror_mode": {
    "name": "ipython",
    "version": 3
   },
   "file_extension": ".py",
   "mimetype": "text/x-python",
   "name": "python",
   "nbconvert_exporter": "python",
   "pygments_lexer": "ipython3",
   "version": "3.7.12"
  }
 },
 "nbformat": 4,
 "nbformat_minor": 5
}
