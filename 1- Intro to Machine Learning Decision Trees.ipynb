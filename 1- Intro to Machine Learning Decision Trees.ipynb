{
 "cells": [
  {
   "cell_type": "markdown",
   "id": "85be35e8-c134-4ba4-ac3d-fe95bc106ff4",
   "metadata": {
    "tags": []
   },
   "source": [
    "# **Introduction to Machine Learning: Decision Trees**\n",
    "\n",
    "# Overview\n",
    "***Introduction Video***\n",
    "\n",
    "It's important to note that there are other machine learning techniques, but the aim of this notebook will be to have a basic understanding of one of the fundamental techniques used: Decision Tree. This is ideal because Decision Trees are the basis for more complex models such as Boosted Trees or Random Forests. Below we have a general introduction video to machine learning by Lorena Benitez.\n"
   ]
  },
  {
   "cell_type": "code",
   "execution_count": 2,
   "id": "bfb2d237-44af-43c8-8968-eaa340d7ecc3",
   "metadata": {
    "tags": []
   },
   "outputs": [
    {
     "data": {
      "image/jpeg": "[encoded data removed]",
      "text/html": [
       "\n",
       "        <iframe\n",
       "            width=\"800\"\n",
       "            height=\"400\"\n",
       "            src=\"https://www.youtube.com/embed/e3tGQykFC5M\"\n",
       "            frameborder=\"0\"\n",
       "            allowfullscreen\n",
       "            \n",
       "        ></iframe>\n",
       "        "
      ],
      "text/plain": [
       "<IPython.lib.display.YouTubeVideo at 0x7f9a802a3640>"
      ]
     },
     "execution_count": 2,
     "metadata": {},
     "output_type": "execute_result"
    }
   ],
   "source": [
    "#Run the command below to watch the video\n",
    "from IPython.display import YouTubeVideo\n",
    "\n",
    "YouTubeVideo('e3tGQykFC5M', width=800, height=400)"
   ]
  },
  {
   "cell_type": "markdown",
   "id": "79cfdd4f-a214-4c13-aba8-c40067c1faf5",
   "metadata": {},
   "source": [
    "# Learning Objectives"
   ]
  },
  {
   "cell_type": "markdown",
   "id": "f18e5709-a21d-4fc0-913b-fa1ad90beec1",
   "metadata": {},
   "source": [
    "By the end of this module, you will be able to: \n",
    "- Understand decision trees\n",
    "    - Define what a decision tree is and explain its role as a supervised machine learning model. \n",
    "- Prepare and explore Data \n",
    "    - Load, inspect, and preprocess datasets using Python libraries. \n",
    "    - Separate data into features and labels, understanding the significance of each. \n",
    "- Train and visualize models\n",
    "    - Create and train a decision tree model using scikit-learn library. \n",
    "    - Visualize the structure of a trained Decision Tree and interpret its decision-making process. \n",
    "- Make predictions and evaluate performance \n",
    "    - Use the trained decision tree model to make predictions on new data. \n",
    "    - Compare predicted values to actual values using visual tools and calculate metrics such as Root Mean Square Error (RMSE) to assess model accuracy. \n",
    "- Apply to Real-World Data\n",
    "    - Implement decision trees on real-world datasets, such as COVID-19 data from California. \n",
    "    - Understand the pratical implications and limitations of using decision trees for predictive modeling. "
   ]
  },
  {
   "cell_type": "code",
   "execution_count": 3,
   "id": "17ef06ff-a9e9-4d29-8bd5-dc7c3fbf994f",
   "metadata": {
    "tags": []
   },
   "outputs": [
    {
     "data": {
      "image/jpeg": "[encoded data removed]",
      "text/html": [
       "\n",
       "        <iframe\n",
       "            width=\"800\"\n",
       "            height=\"400\"\n",
       "            src=\"https://www.youtube.com/embed/_kAjJ8rJwfU\"\n",
       "            frameborder=\"0\"\n",
       "            allowfullscreen\n",
       "            \n",
       "        ></iframe>\n",
       "        "
      ],
      "text/plain": [
       "<IPython.lib.display.YouTubeVideo at 0x7f9a802a2c50>"
      ]
     },
     "execution_count": 3,
     "metadata": {},
     "output_type": "execute_result"
    }
   ],
   "source": [
    "#Run the command below to watch the video\n",
    "from IPython.display import YouTubeVideo\n",
    "\n",
    "YouTubeVideo('_kAjJ8rJwfU', width=800, height=400)"
   ]
  },
  {
   "cell_type": "markdown",
   "id": "faaa7b6b-4339-4f7f-ac74-ce3c67306fe9",
   "metadata": {},
   "source": [
    "We are going to be working with **COVID data** from the 58 counties of California during Summer 2020 (July, August, and September).  \n",
    "\n",
    "**Remember the complete dataset with 58 counties from the previous video of this workshop?** \n",
    "\n",
    "Let's now imagine that we did not know the **cases per 100,000 people** for the last 18 counties of the dataset. \n",
    "\n",
    "![Features-for-Prediction.jpg](images/Features-for-Prediction.jpg)\n",
    "\n",
    "**The objective** of this exercise will be to make predictions for these missing values in the column **cases per 100,000 people** based solely on the data that we do have available.\n",
    "\n",
    "The information that we still have available for these 18 counties are:\n",
    "\n",
    "*   Population\n",
    "*   Vaccination Percentage (Partial and Fully vaccinated)\n",
    "*   Unemployment Rates\n",
    "*   Partisan Voting Percentage (Democrat, Green, Republican, Libertarian, and Other)\n",
    "\n",
    "In order to do this, we will be creating a **DECISION TREE**"
   ]
  },
  {
   "cell_type": "markdown",
   "id": "347373f9-cd3b-409e-87f6-2237f7ab6a5c",
   "metadata": {},
   "source": [
    "## WHAT IS A DECISION TREE?\n",
    "\n",
    " A **Decision Tree** is a supervised machine learning model that allows us to make predictions by learning simple decision rules that are inferred using available information in the dataset. \n",
    " \n",
    "- A Decision Tree is called a **supervised**  model because we know exactly what we want to figure out. For example, for our Decision Tree, we will specify that we want to figure out the missing values of the column **cases per 100,000 people**, and our model will try to find these values by making predictions for them using the the information we do have available.\n",
    "\n",
    "- In contrast, in an **unsupervised**  model, we do not know exactly what we want to predict. Instead, an unsupervised model finds hidden relationships between different types of information and can group them based on similarities. For example, Netflix surprising you with a new show you like.\n",
    "\n",
    "A **Decision Tree** can be pictured as a tree-like flowchart, where we start with a particular criteria and based on whether this is True (Y for Yes) or False (N for No), we chose only one of the branches. This process is then repeated at every decision until we reach the bottom of the tree, where we end up with a specific prediction. \n",
    "\n",
    "![General-Decision-Tree.png](images/General-Decision-Tree.png)\n",
    "\n",
    "We will see how a Decision Tree can help us predict the missing **cases per 100,000 people** in more detail later on in this tutorial.\n",
    "\n",
    "You can find more information about different ways to classify machine learning models here: [Machine Learning Models](https://www.geeksforgeeks.org/introduction-machine-learning/?ref=lbp)\n",
    "\n",
    "You can find more information about Decision Trees here: [Scikit-learn](https://scikit-learn.org/stable/modules/tree.html)"
   ]
  },
  {
   "cell_type": "code",
   "execution_count": 5,
   "id": "d96c650c-4a96-486d-99db-16dba7ed9317",
   "metadata": {
    "tags": []
   },
   "outputs": [
    {
     "data": {
      "text/html": [
       "<div id=\"MpQrXvjLDoZX\" data-shufflequestions=\"False\"\n",
       "               data-shuffleanswers=\"True\"\n",
       "               data-preserveresponses=\"false\"\n",
       "               data-numquestions=\"1000000\"> <style>:root {\n",
       "    --medium-slate-blue: #6f78ffff;\n",
       "    --orange-pantone: #f75c03ff;\n",
       "    --russian-violet: #392061ff;\n",
       "    --maximum-yellow-red: #ffc857ff;\n",
       "    --viridian-green: #119da4ff;\n",
       "    --incorrect-red: #c80202;\n",
       "    --correct-green: #009113;\n",
       "}\n",
       "\n",
       ".Quiz {\n",
       "    max-width: 600px;\n",
       "    margin-top: 15px;\n",
       "    margin-left: auto;\n",
       "    margin-right: auto;\n",
       "    margin-bottom: 15px;\n",
       "    padding-bottom: 4px;\n",
       "    padding-top: 4px;\n",
       "    line-height: 1.1;\n",
       "    font-size: 16pt;\n",
       "}\n",
       "\n",
       ".QuizCode {\n",
       "    font-size: 14pt;\n",
       "    margin-top: 10px;\n",
       "    margin-left: 20px;\n",
       "    margin-right: 20px;\n",
       "}\n",
       "\n",
       ".QuizCode>pre {\n",
       "    padding: 4px;\n",
       "}\n",
       "\n",
       ".Answer {\n",
       "    margin: 10px 0;\n",
       "    display: grid;\n",
       "    grid-template-columns: auto auto;\n",
       "    grid-gap: 10px;\n",
       "}\n",
       "\n",
       ".Feedback {\n",
       "    font-size: 16pt;\n",
       "    text-align: center;\n",
       "    min-height: 2em;\n",
       "}\n",
       "\n",
       ".Input {\n",
       "    align: left;\n",
       "    font-size: 20pt;\n",
       "}\n",
       "\n",
       ".Input-text {\n",
       "    display: block;\n",
       "    margin: 10px;\n",
       "    color: inherit;\n",
       "    width: 140px;\n",
       "    background-color: #c0c0c0;\n",
       "    color: #fff;\n",
       "    padding: 5px;\n",
       "    padding-left: 10px;\n",
       "    font-family: inherit;\n",
       "    font-size: 20px;\n",
       "    font-weight: inherit;\n",
       "    line-height: 20pt;\n",
       "    border: none;\n",
       "    border-radius: 0.2rem;\n",
       "    transition: box-shadow 0.1s);\n",
       "}\n",
       "\n",
       ".Input-text:focus {\n",
       "    outline: none;\n",
       "    background-color: #c0c0c0;\n",
       "    box-shadow: 0.6rem 0.8rem 1.4rem -0.5rem #999999;\n",
       "}\n",
       "\n",
       ".MCButton {\n",
       "    background: #fafafa;\n",
       "    border: 1px solid #eee;\n",
       "    border-radius: 10px;\n",
       "    padding: 10px;\n",
       "    font-size: 16px;\n",
       "    cursor: pointer;\n",
       "    text-align: center;\n",
       "}\n",
       "\n",
       ".MCButton p {\n",
       "    color: inherit;\n",
       "}\n",
       "\n",
       ".MultipleChoiceQn {\n",
       "    padding: 10px;\n",
       "    background: var(--medium-slate-blue);\n",
       "    color: #fafafa;\n",
       "    border-radius: 10px;\n",
       "}\n",
       "\n",
       ".ManyChoiceQn {\n",
       "    padding: 10px;\n",
       "    background: var(--orange-pantone);\n",
       "    color: #fafafa;\n",
       "    border-radius: 10px;\n",
       "}\n",
       "\n",
       ".NumericQn {\n",
       "    padding: 10px;\n",
       "    background: var(--russian-violet);\n",
       "    color: #fafafa;\n",
       "    border-radius: 10px;\n",
       "}\n",
       "\n",
       ".NumericQn p {\n",
       "    color: inherit;\n",
       "}\n",
       "\n",
       ".InpLabel {\n",
       "    line-height: 34px;\n",
       "    float: left;\n",
       "    margin-right: 10px;\n",
       "    color: #101010;\n",
       "    font-size: 15pt;\n",
       "}\n",
       "\n",
       ".incorrect {\n",
       "    color: var(--incorrect-red);\n",
       "}\n",
       "\n",
       ".correct {\n",
       "    color: var(--correct-green);\n",
       "}\n",
       "\n",
       ".correctButton {\n",
       "    /*\n",
       "    background: var(--correct-green);\n",
       "   */\n",
       "    animation: correct-anim 0.6s ease;\n",
       "    animation-fill-mode: forwards;\n",
       "    color: #fafafa;\n",
       "    box-shadow: inset 0px 0px 5px #555555;\n",
       "    outline: none;\n",
       "}\n",
       "\n",
       ".incorrectButton {\n",
       "    animation: incorrect-anim 0.8s ease;\n",
       "    animation-fill-mode: forwards;\n",
       "    color: #fafafa;\n",
       "    box-shadow: inset 0px 0px 5px #555555;\n",
       "    outline: none;\n",
       "}\n",
       "\n",
       "@keyframes incorrect-anim {\n",
       "    100% {\n",
       "        background-color: var(--incorrect-red);\n",
       "    }\n",
       "}\n",
       "\n",
       "@keyframes correct-anim {\n",
       "    100% {\n",
       "        background-color: var(--correct-green);\n",
       "    }\n",
       "}</style>"
      ],
      "text/plain": [
       "<IPython.core.display.HTML object>"
      ]
     },
     "metadata": {},
     "output_type": "display_data"
    },
    {
     "data": {
      "application/javascript": [
       "var questionsMpQrXvjLDoZX=[\n",
       "    {\n",
       "        \"question\": \"Which of the following statements is the best description of the project you are working on here?\",\n",
       "        \"type\": \"multiple_choice\",\n",
       "        \"answers\": [\n",
       "            {\n",
       "                \"answer\": \"We are creating a model to better understand what determines the number of COVID cases in a county.\",\n",
       "                \"correct\": false,\n",
       "                \"feedback\": \"While we may gain insights into what is correlated with COVID cases in a county we will not know for certain what determines it. Please try again.\"\n",
       "            },\n",
       "            {\n",
       "                \"answer\": \"We are creating a model to be able to predict the number of COVID cases in a county.\",\n",
       "                \"correct\": true,\n",
       "                \"feedback\": \"Correct. Given data such as population, vaccination rates, and other information, our Decision Tree will predict the number of COVID cases for that county.\"\n",
       "            },\n",
       "            {\n",
       "                \"answer\": \"We are learning about the biology of COVID transmission.\",\n",
       "                \"correct\": false,\n",
       "                \"feedback\": \"There is no knowledge of disease transmission in this project. Please try again.\"\n",
       "            },\n",
       "            {\n",
       "                \"answer\": \"We are trying to determine whether SF county had more or less COVID cases than LA county.\",\n",
       "                \"correct\": false,\n",
       "                \"feedback\": \"We can verify this from the datasets themselves but this is not our aim in this project. Please try again.\"\n",
       "            }\n",
       "        ]\n",
       "    }\n",
       "];\n",
       "    // Make a random ID\n",
       "function makeid(length) {\n",
       "    var result = [];\n",
       "    var characters = 'ABCDEFGHIJKLMNOPQRSTUVWXYZabcdefghijklmnopqrstuvwxyz';\n",
       "    var charactersLength = characters.length;\n",
       "    for (var i = 0; i < length; i++) {\n",
       "        result.push(characters.charAt(Math.floor(Math.random() * charactersLength)));\n",
       "    }\n",
       "    return result.join('');\n",
       "}\n",
       "\n",
       "// Choose a random subset of an array. Can also be used to shuffle the array\n",
       "function getRandomSubarray(arr, size) {\n",
       "    var shuffled = arr.slice(0), i = arr.length, temp, index;\n",
       "    while (i--) {\n",
       "        index = Math.floor((i + 1) * Math.random());\n",
       "        temp = shuffled[index];\n",
       "        shuffled[index] = shuffled[i];\n",
       "        shuffled[i] = temp;\n",
       "    }\n",
       "    return shuffled.slice(0, size);\n",
       "}\n",
       "\n",
       "function printResponses(responsesContainer) {\n",
       "    var responses=JSON.parse(responsesContainer.dataset.responses);\n",
       "    var stringResponses='<B>IMPORTANT!</B>To preserve this answer sequence for submission, when you have finalized your answers: <ol> <li> Copy the text in this cell below \"Answer String\"</li> <li> Double click on the cell directly below the Answer String, labeled \"Replace Me\"</li> <li> Select the whole \"Replace Me\" text</li> <li> Paste in your answer string and press shift-Enter.</li><li>Save the notebook using the save icon or File->Save Notebook menu item</li></ul><br><br><br><b>Answer String:</b><br> ';\n",
       "    console.log(responses);\n",
       "    responses.forEach((response, index) => {\n",
       "        if (response) {\n",
       "            console.log(index + ': ' + response);\n",
       "            stringResponses+= index + ': ' + response +\"<BR>\";\n",
       "        }\n",
       "    });\n",
       "    responsesContainer.innerHTML=stringResponses;\n",
       "}\n",
       "function check_mc() {\n",
       "    var id = this.id.split('-')[0];\n",
       "    //var response = this.id.split('-')[1];\n",
       "    //console.log(response);\n",
       "    //console.log(\"In check_mc(), id=\"+id);\n",
       "    //console.log(event.srcElement.id)           \n",
       "    //console.log(event.srcElement.dataset.correct)   \n",
       "    //console.log(event.srcElement.dataset.feedback)\n",
       "\n",
       "    var label = event.srcElement;\n",
       "    //console.log(label, label.nodeName);\n",
       "    var depth = 0;\n",
       "    while ((label.nodeName != \"LABEL\") && (depth < 20)) {\n",
       "        label = label.parentElement;\n",
       "        console.log(depth, label);\n",
       "        depth++;\n",
       "    }\n",
       "\n",
       "\n",
       "\n",
       "    var answers = label.parentElement.children;\n",
       "\n",
       "    //console.log(answers);\n",
       "\n",
       "\n",
       "    // Split behavior based on multiple choice vs many choice:\n",
       "    var fb = document.getElementById(\"fb\" + id);\n",
       "\n",
       "\n",
       "\n",
       "\n",
       "    if (fb.dataset.numcorrect == 1) {\n",
       "        // What follows is for the saved responses stuff\n",
       "        var outerContainer = fb.parentElement.parentElement;\n",
       "        var responsesContainer = document.getElementById(\"responses\" + outerContainer.id);\n",
       "        if (responsesContainer) {\n",
       "            //console.log(responsesContainer);\n",
       "            var response = label.firstChild.innerText;\n",
       "            if (label.querySelector(\".QuizCode\")){\n",
       "                response+= label.querySelector(\".QuizCode\").firstChild.innerText;\n",
       "            }\n",
       "            console.log(response);\n",
       "            //console.log(document.getElementById(\"quizWrap\"+id));\n",
       "            var qnum = document.getElementById(\"quizWrap\"+id).dataset.qnum;\n",
       "            console.log(\"Question \" + qnum);\n",
       "            //console.log(id, \", got numcorrect=\",fb.dataset.numcorrect);\n",
       "            var responses=JSON.parse(responsesContainer.dataset.responses);\n",
       "            console.log(responses);\n",
       "            responses[qnum]= response;\n",
       "            responsesContainer.setAttribute('data-responses', JSON.stringify(responses));\n",
       "            printResponses(responsesContainer);\n",
       "        }\n",
       "        // End code to preserve responses\n",
       "        \n",
       "        for (var i = 0; i < answers.length; i++) {\n",
       "            var child = answers[i];\n",
       "            //console.log(child);\n",
       "            child.className = \"MCButton\";\n",
       "        }\n",
       "\n",
       "\n",
       "\n",
       "        if (label.dataset.correct == \"true\") {\n",
       "            // console.log(\"Correct action\");\n",
       "            if (\"feedback\" in label.dataset) {\n",
       "                fb.textContent = jaxify(label.dataset.feedback);\n",
       "            } else {\n",
       "                fb.textContent = \"Correct!\";\n",
       "            }\n",
       "            label.classList.add(\"correctButton\");\n",
       "\n",
       "            fb.className = \"Feedback\";\n",
       "            fb.classList.add(\"correct\");\n",
       "\n",
       "        } else {\n",
       "            if (\"feedback\" in label.dataset) {\n",
       "                fb.textContent = jaxify(label.dataset.feedback);\n",
       "            } else {\n",
       "                fb.textContent = \"Incorrect -- try again.\";\n",
       "            }\n",
       "            //console.log(\"Error action\");\n",
       "            label.classList.add(\"incorrectButton\");\n",
       "            fb.className = \"Feedback\";\n",
       "            fb.classList.add(\"incorrect\");\n",
       "        }\n",
       "    }\n",
       "    else {\n",
       "        var reset = false;\n",
       "        var feedback;\n",
       "         if (label.dataset.correct == \"true\") {\n",
       "            if (\"feedback\" in label.dataset) {\n",
       "                feedback = jaxify(label.dataset.feedback);\n",
       "            } else {\n",
       "                feedback = \"Correct!\";\n",
       "            }\n",
       "            if (label.dataset.answered <= 0) {\n",
       "                if (fb.dataset.answeredcorrect < 0) {\n",
       "                    fb.dataset.answeredcorrect = 1;\n",
       "                    reset = true;\n",
       "                } else {\n",
       "                    fb.dataset.answeredcorrect++;\n",
       "                }\n",
       "                if (reset) {\n",
       "                    for (var i = 0; i < answers.length; i++) {\n",
       "                        var child = answers[i];\n",
       "                        child.className = \"MCButton\";\n",
       "                        child.dataset.answered = 0;\n",
       "                    }\n",
       "                }\n",
       "                label.classList.add(\"correctButton\");\n",
       "                label.dataset.answered = 1;\n",
       "                fb.className = \"Feedback\";\n",
       "                fb.classList.add(\"correct\");\n",
       "\n",
       "            }\n",
       "        } else {\n",
       "            if (\"feedback\" in label.dataset) {\n",
       "                feedback = jaxify(label.dataset.feedback);\n",
       "            } else {\n",
       "                feedback = \"Incorrect -- try again.\";\n",
       "            }\n",
       "            if (fb.dataset.answeredcorrect > 0) {\n",
       "                fb.dataset.answeredcorrect = -1;\n",
       "                reset = true;\n",
       "            } else {\n",
       "                fb.dataset.answeredcorrect--;\n",
       "            }\n",
       "\n",
       "            if (reset) {\n",
       "                for (var i = 0; i < answers.length; i++) {\n",
       "                    var child = answers[i];\n",
       "                    child.className = \"MCButton\";\n",
       "                    child.dataset.answered = 0;\n",
       "                }\n",
       "            }\n",
       "            label.classList.add(\"incorrectButton\");\n",
       "            fb.className = \"Feedback\";\n",
       "            fb.classList.add(\"incorrect\");\n",
       "        }\n",
       "        // What follows is for the saved responses stuff\n",
       "        var outerContainer = fb.parentElement.parentElement;\n",
       "        var responsesContainer = document.getElementById(\"responses\" + outerContainer.id);\n",
       "        if (responsesContainer) {\n",
       "            //console.log(responsesContainer);\n",
       "            var response = label.firstChild.innerText;\n",
       "            if (label.querySelector(\".QuizCode\")){\n",
       "                response+= label.querySelector(\".QuizCode\").firstChild.innerText;\n",
       "            }\n",
       "            console.log(response);\n",
       "            //console.log(document.getElementById(\"quizWrap\"+id));\n",
       "            var qnum = document.getElementById(\"quizWrap\"+id).dataset.qnum;\n",
       "            console.log(\"Question \" + qnum);\n",
       "            //console.log(id, \", got numcorrect=\",fb.dataset.numcorrect);\n",
       "            var responses=JSON.parse(responsesContainer.dataset.responses);\n",
       "            if (label.dataset.correct == \"true\") {\n",
       "                if (typeof(responses[qnum]) == \"object\"){\n",
       "                    if (!responses[qnum].includes(response))\n",
       "                        responses[qnum].push(response);\n",
       "                } else{\n",
       "                    responses[qnum]= [ response ];\n",
       "                }\n",
       "            } else {\n",
       "                responses[qnum]= response;\n",
       "            }\n",
       "            console.log(responses);\n",
       "            responsesContainer.setAttribute('data-responses', JSON.stringify(responses));\n",
       "            printResponses(responsesContainer);\n",
       "        }\n",
       "        // End save responses stuff\n",
       "\n",
       "\n",
       "\n",
       "        var numcorrect = fb.dataset.numcorrect;\n",
       "        var answeredcorrect = fb.dataset.answeredcorrect;\n",
       "        if (answeredcorrect >= 0) {\n",
       "            fb.textContent = feedback + \" [\" + answeredcorrect + \"/\" + numcorrect + \"]\";\n",
       "        } else {\n",
       "            fb.textContent = feedback + \" [\" + 0 + \"/\" + numcorrect + \"]\";\n",
       "        }\n",
       "\n",
       "\n",
       "    }\n",
       "\n",
       "    if (typeof MathJax != 'undefined') {\n",
       "        var version = MathJax.version;\n",
       "        console.log('MathJax version', version);\n",
       "        if (version[0] == \"2\") {\n",
       "            MathJax.Hub.Queue([\"Typeset\", MathJax.Hub]);\n",
       "        } else if (version[0] == \"3\") {\n",
       "            MathJax.typeset([fb]);\n",
       "        }\n",
       "    } else {\n",
       "        console.log('MathJax not detected');\n",
       "    }\n",
       "\n",
       "}\n",
       "\n",
       "function make_mc(qa, shuffle_answers, outerqDiv, qDiv, aDiv, id) {\n",
       "    var shuffled;\n",
       "    if (shuffle_answers == \"True\") {\n",
       "        //console.log(shuffle_answers+\" read as true\");\n",
       "        shuffled = getRandomSubarray(qa.answers, qa.answers.length);\n",
       "    } else {\n",
       "        //console.log(shuffle_answers+\" read as false\");\n",
       "        shuffled = qa.answers;\n",
       "    }\n",
       "\n",
       "\n",
       "    var num_correct = 0;\n",
       "\n",
       "\n",
       "\n",
       "    shuffled.forEach((item, index, ans_array) => {\n",
       "        //console.log(answer);\n",
       "\n",
       "        // Make input element\n",
       "        var inp = document.createElement(\"input\");\n",
       "        inp.type = \"radio\";\n",
       "        inp.id = \"quizo\" + id + index;\n",
       "        inp.style = \"display:none;\";\n",
       "        aDiv.append(inp);\n",
       "\n",
       "        //Make label for input element\n",
       "        var lab = document.createElement(\"label\");\n",
       "        lab.className = \"MCButton\";\n",
       "        lab.id = id + '-' + index;\n",
       "        lab.onclick = check_mc;\n",
       "        var aSpan = document.createElement('span');\n",
       "        aSpan.classsName = \"\";\n",
       "        //qDiv.id=\"quizQn\"+id+index;\n",
       "        if (\"answer\" in item) {\n",
       "            aSpan.innerHTML = jaxify(item.answer);\n",
       "            //aSpan.innerHTML=item.answer;\n",
       "        }\n",
       "        lab.append(aSpan);\n",
       "\n",
       "        // Create div for code inside question\n",
       "        var codeSpan;\n",
       "        if (\"code\" in item) {\n",
       "            codeSpan = document.createElement('span');\n",
       "            codeSpan.id = \"code\" + id + index;\n",
       "            codeSpan.className = \"QuizCode\";\n",
       "            var codePre = document.createElement('pre');\n",
       "            codeSpan.append(codePre);\n",
       "            var codeCode = document.createElement('code');\n",
       "            codePre.append(codeCode);\n",
       "            codeCode.innerHTML = item.code;\n",
       "            lab.append(codeSpan);\n",
       "            //console.log(codeSpan);\n",
       "        }\n",
       "\n",
       "        //lab.textContent=item.answer;\n",
       "\n",
       "        // Set the data attributes for the answer\n",
       "        lab.setAttribute('data-correct', item.correct);\n",
       "        if (item.correct) {\n",
       "            num_correct++;\n",
       "        }\n",
       "        if (\"feedback\" in item) {\n",
       "            lab.setAttribute('data-feedback', item.feedback);\n",
       "        }\n",
       "        lab.setAttribute('data-answered', 0);\n",
       "\n",
       "        aDiv.append(lab);\n",
       "\n",
       "    });\n",
       "\n",
       "    if (num_correct > 1) {\n",
       "        outerqDiv.className = \"ManyChoiceQn\";\n",
       "    } else {\n",
       "        outerqDiv.className = \"MultipleChoiceQn\";\n",
       "    }\n",
       "\n",
       "    return num_correct;\n",
       "\n",
       "}\n",
       "function check_numeric(ths, event) {\n",
       "\n",
       "    if (event.keyCode === 13) {\n",
       "        ths.blur();\n",
       "\n",
       "        var id = ths.id.split('-')[0];\n",
       "\n",
       "        var submission = ths.value;\n",
       "        if (submission.indexOf('/') != -1) {\n",
       "            var sub_parts = submission.split('/');\n",
       "            //console.log(sub_parts);\n",
       "            submission = sub_parts[0] / sub_parts[1];\n",
       "        }\n",
       "        //console.log(\"Reader entered\", submission);\n",
       "\n",
       "        if (\"precision\" in ths.dataset) {\n",
       "            var precision = ths.dataset.precision;\n",
       "            // console.log(\"1:\", submission)\n",
       "            submission = Math.round((1 * submission + Number.EPSILON) * 10 ** precision) / 10 ** precision;\n",
       "            // console.log(\"Rounded to \", submission, \" precision=\", precision  );\n",
       "        }\n",
       "\n",
       "\n",
       "        //console.log(\"In check_numeric(), id=\"+id);\n",
       "        //console.log(event.srcElement.id)           \n",
       "        //console.log(event.srcElement.dataset.feedback)\n",
       "\n",
       "        var fb = document.getElementById(\"fb\" + id);\n",
       "        fb.style.display = \"none\";\n",
       "        fb.textContent = \"Incorrect -- try again.\";\n",
       "\n",
       "        var answers = JSON.parse(ths.dataset.answers);\n",
       "        //console.log(answers);\n",
       "\n",
       "        var defaultFB = \"\";\n",
       "        var correct;\n",
       "        var done = false;\n",
       "        answers.every(answer => {\n",
       "            //console.log(answer.type);\n",
       "\n",
       "            correct = false;\n",
       "            // if (answer.type==\"value\"){\n",
       "            if ('value' in answer) {\n",
       "                if (submission == answer.value) {\n",
       "                    fb.textContent = jaxify(answer.feedback);\n",
       "                    correct = answer.correct;\n",
       "                    //console.log(answer.correct);\n",
       "                    done = true;\n",
       "                }\n",
       "                // } else if (answer.type==\"range\") {\n",
       "            } else if ('range' in answer) {\n",
       "                //console.log(answer.range);\n",
       "                if ((submission >= answer.range[0]) && (submission < answer.range[1])) {\n",
       "                    fb.textContent = jaxify(answer.feedback);\n",
       "                    correct = answer.correct;\n",
       "                    //console.log(answer.correct);\n",
       "                    done = true;\n",
       "                }\n",
       "            } else if (answer.type == \"default\") {\n",
       "                defaultFB = answer.feedback;\n",
       "            }\n",
       "            if (done) {\n",
       "                return false; // Break out of loop if this has been marked correct\n",
       "            } else {\n",
       "                return true; // Keep looking for case that includes this as a correct answer\n",
       "            }\n",
       "        });\n",
       "\n",
       "        if ((!done) && (defaultFB != \"\")) {\n",
       "            fb.innerHTML = jaxify(defaultFB);\n",
       "            //console.log(\"Default feedback\", defaultFB);\n",
       "        }\n",
       "\n",
       "        fb.style.display = \"block\";\n",
       "        if (correct) {\n",
       "            ths.className = \"Input-text\";\n",
       "            ths.classList.add(\"correctButton\");\n",
       "            fb.className = \"Feedback\";\n",
       "            fb.classList.add(\"correct\");\n",
       "        } else {\n",
       "            ths.className = \"Input-text\";\n",
       "            ths.classList.add(\"incorrectButton\");\n",
       "            fb.className = \"Feedback\";\n",
       "            fb.classList.add(\"incorrect\");\n",
       "        }\n",
       "\n",
       "        // What follows is for the saved responses stuff\n",
       "        var outerContainer = fb.parentElement.parentElement;\n",
       "        var responsesContainer = document.getElementById(\"responses\" + outerContainer.id);\n",
       "        if (responsesContainer) {\n",
       "            console.log(submission);\n",
       "            var qnum = document.getElementById(\"quizWrap\"+id).dataset.qnum;\n",
       "            //console.log(\"Question \" + qnum);\n",
       "            //console.log(id, \", got numcorrect=\",fb.dataset.numcorrect);\n",
       "            var responses=JSON.parse(responsesContainer.dataset.responses);\n",
       "            console.log(responses);\n",
       "            if (submission == ths.value){\n",
       "                responses[qnum]= submission;\n",
       "            } else {\n",
       "                responses[qnum]= ths.value + \"(\" + submission +\")\";\n",
       "            }\n",
       "            responsesContainer.setAttribute('data-responses', JSON.stringify(responses));\n",
       "            printResponses(responsesContainer);\n",
       "        }\n",
       "        // End code to preserve responses\n",
       "\n",
       "        if (typeof MathJax != 'undefined') {\n",
       "            var version = MathJax.version;\n",
       "            console.log('MathJax version', version);\n",
       "            if (version[0] == \"2\") {\n",
       "                MathJax.Hub.Queue([\"Typeset\", MathJax.Hub]);\n",
       "            } else if (version[0] == \"3\") {\n",
       "                MathJax.typeset([fb]);\n",
       "            }\n",
       "        } else {\n",
       "            console.log('MathJax not detected');\n",
       "        }\n",
       "        return false;\n",
       "    }\n",
       "\n",
       "}\n",
       "\n",
       "function isValid(el, charC) {\n",
       "    //console.log(\"Input char: \", charC);\n",
       "    if (charC == 46) {\n",
       "        if (el.value.indexOf('.') === -1) {\n",
       "            return true;\n",
       "        } else if (el.value.indexOf('/') != -1) {\n",
       "            var parts = el.value.split('/');\n",
       "            if (parts[1].indexOf('.') === -1) {\n",
       "                return true;\n",
       "            }\n",
       "        }\n",
       "        else {\n",
       "            return false;\n",
       "        }\n",
       "    } else if (charC == 47) {\n",
       "        if (el.value.indexOf('/') === -1) {\n",
       "            if ((el.value != \"\") && (el.value != \".\")) {\n",
       "                return true;\n",
       "            } else {\n",
       "                return false;\n",
       "            }\n",
       "        } else {\n",
       "            return false;\n",
       "        }\n",
       "    } else if (charC == 45) {\n",
       "        var edex = el.value.indexOf('e');\n",
       "        if (edex == -1) {\n",
       "            edex = el.value.indexOf('E');\n",
       "        }\n",
       "\n",
       "        if (el.value == \"\") {\n",
       "            return true;\n",
       "        } else if (edex == (el.value.length - 1)) { // If just after e or E\n",
       "            return true;\n",
       "        } else {\n",
       "            return false;\n",
       "        }\n",
       "    } else if (charC == 101) { // \"e\"\n",
       "        if ((el.value.indexOf('e') === -1) && (el.value.indexOf('E') === -1) && (el.value.indexOf('/') == -1)) {\n",
       "            // Prev symbol must be digit or decimal point:\n",
       "            if (el.value.slice(-1).search(/\\d/) >= 0) {\n",
       "                return true;\n",
       "            } else if (el.value.slice(-1).search(/\\./) >= 0) {\n",
       "                return true;\n",
       "            } else {\n",
       "                return false;\n",
       "            }\n",
       "        } else {\n",
       "            return false;\n",
       "        }\n",
       "    } else {\n",
       "        if (charC > 31 && (charC < 48 || charC > 57))\n",
       "            return false;\n",
       "    }\n",
       "    return true;\n",
       "}\n",
       "\n",
       "function numeric_keypress(evnt) {\n",
       "    var charC = (evnt.which) ? evnt.which : evnt.keyCode;\n",
       "\n",
       "    if (charC == 13) {\n",
       "        check_numeric(this, evnt);\n",
       "    } else {\n",
       "        return isValid(this, charC);\n",
       "    }\n",
       "}\n",
       "\n",
       "\n",
       "\n",
       "\n",
       "\n",
       "function make_numeric(qa, outerqDiv, qDiv, aDiv, id) {\n",
       "\n",
       "\n",
       "\n",
       "    //console.log(answer);\n",
       "\n",
       "\n",
       "    outerqDiv.className = \"NumericQn\";\n",
       "    aDiv.style.display = 'block';\n",
       "\n",
       "    var lab = document.createElement(\"label\");\n",
       "    lab.className = \"InpLabel\";\n",
       "    lab.textContent = \"Type numeric answer here:\";\n",
       "    aDiv.append(lab);\n",
       "\n",
       "    var inp = document.createElement(\"input\");\n",
       "    inp.type = \"text\";\n",
       "    //inp.id=\"input-\"+id;\n",
       "    inp.id = id + \"-0\";\n",
       "    inp.className = \"Input-text\";\n",
       "    inp.setAttribute('data-answers', JSON.stringify(qa.answers));\n",
       "    if (\"precision\" in qa) {\n",
       "        inp.setAttribute('data-precision', qa.precision);\n",
       "    }\n",
       "    aDiv.append(inp);\n",
       "    //console.log(inp);\n",
       "\n",
       "    //inp.addEventListener(\"keypress\", check_numeric);\n",
       "    //inp.addEventListener(\"keypress\", numeric_keypress);\n",
       "    /*\n",
       "    inp.addEventListener(\"keypress\", function(event) {\n",
       "        return numeric_keypress(this, event);\n",
       "    }\n",
       "                        );\n",
       "                        */\n",
       "    //inp.onkeypress=\"return numeric_keypress(this, event)\";\n",
       "    inp.onkeypress = numeric_keypress;\n",
       "    inp.onpaste = event => false;\n",
       "\n",
       "    inp.addEventListener(\"focus\", function (event) {\n",
       "        this.value = \"\";\n",
       "        return false;\n",
       "    }\n",
       "    );\n",
       "\n",
       "\n",
       "}\n",
       "function jaxify(string) {\n",
       "    var mystring = string;\n",
       "\n",
       "    var count = 0;\n",
       "    var loc = mystring.search(/([^\\\\]|^)(\\$)/);\n",
       "\n",
       "    var count2 = 0;\n",
       "    var loc2 = mystring.search(/([^\\\\]|^)(\\$\\$)/);\n",
       "\n",
       "    //console.log(loc);\n",
       "\n",
       "    while ((loc >= 0) || (loc2 >= 0)) {\n",
       "\n",
       "        /* Have to replace all the double $$ first with current implementation */\n",
       "        if (loc2 >= 0) {\n",
       "            if (count2 % 2 == 0) {\n",
       "                mystring = mystring.replace(/([^\\\\]|^)(\\$\\$)/, \"$1\\\\[\");\n",
       "            } else {\n",
       "                mystring = mystring.replace(/([^\\\\]|^)(\\$\\$)/, \"$1\\\\]\");\n",
       "            }\n",
       "            count2++;\n",
       "        } else {\n",
       "            if (count % 2 == 0) {\n",
       "                mystring = mystring.replace(/([^\\\\]|^)(\\$)/, \"$1\\\\(\");\n",
       "            } else {\n",
       "                mystring = mystring.replace(/([^\\\\]|^)(\\$)/, \"$1\\\\)\");\n",
       "            }\n",
       "            count++;\n",
       "        }\n",
       "        loc = mystring.search(/([^\\\\]|^)(\\$)/);\n",
       "        loc2 = mystring.search(/([^\\\\]|^)(\\$\\$)/);\n",
       "        //console.log(mystring,\", loc:\",loc,\", loc2:\",loc2);\n",
       "    }\n",
       "\n",
       "    //console.log(mystring);\n",
       "    return mystring;\n",
       "}\n",
       "\n",
       "\n",
       "function show_questions(json, mydiv) {\n",
       "    console.log('show_questions');\n",
       "    //var mydiv=document.getElementById(myid);\n",
       "    var shuffle_questions = mydiv.dataset.shufflequestions;\n",
       "    var num_questions = mydiv.dataset.numquestions;\n",
       "    var shuffle_answers = mydiv.dataset.shuffleanswers;\n",
       "\n",
       "    if (num_questions > json.length) {\n",
       "        num_questions = json.length;\n",
       "    }\n",
       "\n",
       "    var questions;\n",
       "    if ((num_questions < json.length) || (shuffle_questions == \"True\")) {\n",
       "        //console.log(num_questions+\",\"+json.length);\n",
       "        questions = getRandomSubarray(json, num_questions);\n",
       "    } else {\n",
       "        questions = json;\n",
       "    }\n",
       "\n",
       "    //console.log(\"SQ: \"+shuffle_questions+\", NQ: \" + num_questions + \", SA: \", shuffle_answers);\n",
       "\n",
       "    // Iterate over questions\n",
       "    questions.forEach((qa, index, array) => {\n",
       "        //console.log(qa.question); \n",
       "\n",
       "        var id = makeid(8);\n",
       "        //console.log(id);\n",
       "\n",
       "\n",
       "        // Create Div to contain question and answers\n",
       "        var iDiv = document.createElement('div');\n",
       "        //iDiv.id = 'quizWrap' + id + index;\n",
       "        iDiv.id = 'quizWrap' + id;\n",
       "        iDiv.className = 'Quiz';\n",
       "        iDiv.setAttribute('data-qnum', index);\n",
       "        mydiv.appendChild(iDiv);\n",
       "        // iDiv.innerHTML=qa.question;\n",
       "\n",
       "        var outerqDiv = document.createElement('div');\n",
       "        outerqDiv.id = \"OuterquizQn\" + id + index;\n",
       "\n",
       "        iDiv.append(outerqDiv);\n",
       "\n",
       "        // Create div to contain question part\n",
       "        var qDiv = document.createElement('div');\n",
       "        qDiv.id = \"quizQn\" + id + index;\n",
       "        //qDiv.textContent=qa.question;\n",
       "        qDiv.innerHTML = jaxify(qa.question);\n",
       "\n",
       "        outerqDiv.append(qDiv);\n",
       "\n",
       "        // Create div for code inside question\n",
       "        var codeDiv;\n",
       "        if (\"code\" in qa) {\n",
       "            codeDiv = document.createElement('div');\n",
       "            codeDiv.id = \"code\" + id + index;\n",
       "            codeDiv.className = \"QuizCode\";\n",
       "            var codePre = document.createElement('pre');\n",
       "            codeDiv.append(codePre);\n",
       "            var codeCode = document.createElement('code');\n",
       "            codePre.append(codeCode);\n",
       "            codeCode.innerHTML = qa.code;\n",
       "            outerqDiv.append(codeDiv);\n",
       "            //console.log(codeDiv);\n",
       "        }\n",
       "\n",
       "\n",
       "        // Create div to contain answer part\n",
       "        var aDiv = document.createElement('div');\n",
       "        aDiv.id = \"quizAns\" + id + index;\n",
       "        aDiv.className = 'Answer';\n",
       "        iDiv.append(aDiv);\n",
       "\n",
       "        //console.log(qa.type);\n",
       "\n",
       "        var num_correct;\n",
       "        if (qa.type == \"multiple_choice\") {\n",
       "            num_correct = make_mc(qa, shuffle_answers, outerqDiv, qDiv, aDiv, id);\n",
       "        } else if (qa.type == \"many_choice\") {\n",
       "            num_correct = make_mc(qa, shuffle_answers, outerqDiv, qDiv, aDiv, id);\n",
       "        } else if (qa.type == \"numeric\") {\n",
       "            //console.log(\"numeric\");\n",
       "            make_numeric(qa, outerqDiv, qDiv, aDiv, id);\n",
       "        }\n",
       "\n",
       "\n",
       "        //Make div for feedback\n",
       "        var fb = document.createElement(\"div\");\n",
       "        fb.id = \"fb\" + id;\n",
       "        //fb.style=\"font-size: 20px;text-align:center;\";\n",
       "        fb.className = \"Feedback\";\n",
       "        fb.setAttribute(\"data-answeredcorrect\", 0);\n",
       "        fb.setAttribute(\"data-numcorrect\", num_correct);\n",
       "        iDiv.append(fb);\n",
       "\n",
       "\n",
       "    });\n",
       "    var preserveResponses = mydiv.dataset.preserveresponses;\n",
       "    console.log(preserveResponses);\n",
       "    console.log(preserveResponses == \"true\");\n",
       "    if (preserveResponses == \"true\") {\n",
       "        console.log(preserveResponses);\n",
       "        // Create Div to contain record of answers\n",
       "        var iDiv = document.createElement('div');\n",
       "        iDiv.id = 'responses' + mydiv.id;\n",
       "        iDiv.className = 'JCResponses';\n",
       "        // Create a place to store responses as an empty array\n",
       "        iDiv.setAttribute('data-responses', '[]');\n",
       "\n",
       "        // Dummy Text\n",
       "        iDiv.innerHTML=\"<b>Select your answers and then follow the directions that will appear here.</b>\"\n",
       "        //iDiv.className = 'Quiz';\n",
       "        mydiv.appendChild(iDiv);\n",
       "    }\n",
       "//console.log(\"At end of show_questions\");\n",
       "    if (typeof MathJax != 'undefined') {\n",
       "        console.log(\"MathJax version\", MathJax.version);\n",
       "        var version = MathJax.version;\n",
       "        setTimeout(function(){\n",
       "            var version = MathJax.version;\n",
       "            console.log('After sleep, MathJax version', version);\n",
       "            if (version[0] == \"2\") {\n",
       "                MathJax.Hub.Queue([\"Typeset\", MathJax.Hub]);\n",
       "            } else if (version[0] == \"3\") {\n",
       "                MathJax.typeset([mydiv]);\n",
       "            }\n",
       "        }, 500);\n",
       "if (typeof version == 'undefined') {\n",
       "        } else\n",
       "        {\n",
       "            if (version[0] == \"2\") {\n",
       "                MathJax.Hub.Queue([\"Typeset\", MathJax.Hub]);\n",
       "            } else if (version[0] == \"3\") {\n",
       "                MathJax.typeset([mydiv]);\n",
       "            } else {\n",
       "                console.log(\"MathJax not found\");\n",
       "            }\n",
       "        }\n",
       "    }\n",
       "    return false;\n",
       "}\n",
       "\n",
       "        {\n",
       "        show_questions(questionsMpQrXvjLDoZX,  MpQrXvjLDoZX);\n",
       "        }\n",
       "        "
      ],
      "text/plain": [
       "<IPython.core.display.Javascript object>"
      ]
     },
     "metadata": {},
     "output_type": "display_data"
    }
   ],
   "source": [
    "!pip install jupyterquiz==2.0.7 --quiet\n",
    "from jupyterquiz import display_quiz\n",
    "\n",
    "display_quiz('quiz_files/quiz1.json')"
   ]
  },
  {
   "cell_type": "markdown",
   "id": "170813e7-81c7-4224-9539-bcc8c36f9961",
   "metadata": {},
   "source": [
    "# Prerequisites\n",
    "\n",
    "***Data Sources***\n",
    "\n",
    "- [COVID cases data (California Health and Human Services Agency)](https://data.chhs.ca.gov/dataset/covid-19-time-series-metrics-by-county-and-state/resource/046cdd2b-31e5-4d34-9ed3-b48cdbc4be7a)\n",
    "- [COVID vaccination data (Los Angeles Times)](https://github.com/datadesk/california-coronavirus-data)\n",
    "- [Unemployment data (California Employment Development Dept.)](https://data.edd.ca.gov/Labor-Force-and-Unemployment-Rates/Local-Area-Unemployment-StatisticsdecisionLAUS-/e6gw-gvii)\n",
    "- [Election data (Harvard University)](https://dataverse.harvard.edu/dataset.xhtml?persistentId=doi:10.7910/DVN/VOQCHQ)\n",
    "\n",
    "***Libraries/Packages***\n",
    "   \n",
    "- IPython.display\n",
    "- jupyterquiz==2.0.7\n",
    "- graphviz \n",
    "- pandas\n",
    "- numpy\n",
    "- sklearn\n",
    "- matplotlib\n",
    "\n"
   ]
  },
  {
   "cell_type": "markdown",
   "id": "ad938220-3e5a-455f-a725-a8329672a0d8",
   "metadata": {},
   "source": [
    "***<span style=\"font-size:0.8em;\"> \\* If the libraries/packages have not been installed:</span>***\n",
    "\n",
    "<span style=\"font-size:0.8em;\"> Use !pip install <library/package name> or \n",
    "!conda install -c anaconda <library/package name> -y </span>\n",
    "\n",
    "<span style=\"font-size:0.8em;\"> replacing <library/package name> with the library or package name you are trying to download </span>"
   ]
  },
  {
   "cell_type": "markdown",
   "id": "8e171f43-88c8-432e-8e57-f9f918f1beea",
   "metadata": {},
   "source": [
    "# Get Started\n",
    "\n"
   ]
  },
  {
   "cell_type": "markdown",
   "id": "70bbc537-63d0-44f9-8705-0f0fb3dc494d",
   "metadata": {},
   "source": [
    "### Step 1) Importing necessary packages into the notebook\n"
   ]
  },
  {
   "cell_type": "code",
   "execution_count": 7,
   "id": "7e8257e4-ef07-4b9b-bd9b-d4afd3f91548",
   "metadata": {
    "tags": []
   },
   "outputs": [
    {
     "data": {
      "image/jpeg": "[encoded data removed]",
      "text/html": [
       "\n",
       "        <iframe\n",
       "            width=\"800\"\n",
       "            height=\"400\"\n",
       "            src=\"https://www.youtube.com/embed/jPIQbpdTkbM\"\n",
       "            frameborder=\"0\"\n",
       "            allowfullscreen\n",
       "            \n",
       "        ></iframe>\n",
       "        "
      ],
      "text/plain": [
       "<IPython.lib.display.YouTubeVideo at 0x7f9a802a2cb0>"
      ]
     },
     "execution_count": 7,
     "metadata": {},
     "output_type": "execute_result"
    }
   ],
   "source": [
    "#Run the command below to watch the video\n",
    "from IPython.display import YouTubeVideo\n",
    "\n",
    "YouTubeVideo('jPIQbpdTkbM', width=800, height=400)"
   ]
  },
  {
   "cell_type": "markdown",
   "id": "c7d3fb42-e3f7-4b3b-a14e-c100c4382491",
   "metadata": {
    "tags": []
   },
   "source": [
    "Before working on our model we need to import all packages and specific functions that we will need to use in order to work with our data. \n",
    "\n",
    "- **Packages** are essentially prepackaged code that others have made, that are often organized in chunks of code called modules. A package can contain many modules and these modules may contain several functions. \n",
    "\n",
    "- **Functions** are essentially a set of instructions to a computer that specify how to handle different types of files, what mathematical equations are used to calculate our model, how our graphs are going to be displayed, etc. \n",
    "\n",
    "The code in this notebook is organized in **cells**\n",
    "\n",
    "In the example below we will learn how to execute or \"run\" each of the three cells, so that our code actually takes effect. To run the code in a cell, select the cell and press the \"play\" button on the upper part of the notebook menu. \n",
    "\n",
    "**Note**: The lines of green text that are preceded by a \"#\" are called comments, they exist only to provide explanations of what each line or chunk of code does. They are not actually part of the code."
   ]
  },
  {
   "cell_type": "code",
   "execution_count": null,
   "id": "5ddada1e-aae9-4b22-87ae-022e0b96a053",
   "metadata": {
    "tags": []
   },
   "outputs": [],
   "source": [
    "# Data Wrangling Imports\n",
    "import pandas as pd\n",
    "import numpy as np"
   ]
  },
  {
   "cell_type": "code",
   "execution_count": null,
   "id": "a24d2226-35ca-451b-85d4-757c93eab78a",
   "metadata": {
    "tags": []
   },
   "outputs": [],
   "source": [
    "# Machine Learning Models Imports\n",
    "from sklearn import tree\n",
    "from sklearn.tree import DecisionTreeRegressor "
   ]
  },
  {
   "cell_type": "code",
   "execution_count": null,
   "id": "6b29cad9-0cb2-40c8-959a-177b86019a3f",
   "metadata": {
    "scrolled": true,
    "tags": []
   },
   "outputs": [],
   "source": [
    "# Model Evaluation Imports and Visualization\n",
    "from matplotlib import pyplot as plt\n",
    "!pip install graphviz\n",
    "!conda install -c anaconda graphviz -y\n",
    "import graphviz\n",
    "# Quantitative metrics of Model performance\n",
    "from sklearn.metrics import mean_squared_error"
   ]
  },
  {
   "cell_type": "markdown",
   "id": "ba92c612-e851-4c76-8551-4bf12daea579",
   "metadata": {},
   "source": [
    "### Step 2) Loading training data and making sure it looks correct"
   ]
  },
  {
   "cell_type": "code",
   "execution_count": null,
   "id": "4f7561be-fa34-479e-95d1-62ef4bcdfc29",
   "metadata": {
    "tags": []
   },
   "outputs": [],
   "source": [
    "#Run the command below to watch the video\n",
    "from IPython.display import YouTubeVideo\n",
    "\n",
    "YouTubeVideo('z9dcLYg65uk', width=800, height=400)"
   ]
  },
  {
   "cell_type": "markdown",
   "id": "002bea86-95cb-4076-b05a-aa34bcbceb15",
   "metadata": {},
   "source": [
    "Now that we have our tools, we can now examine our dataset again. \n",
    "\n",
    "Recall that we are missing the last 18 values in the column \"cases per 100,000\", but we still have a big chunk of complete data (40 rows). This chunk of complete information is often referred to as **training data**.\n",
    "\n",
    "![Training-Data.jpg](images/Training-Data.jpg)\n",
    "\n",
    "**Training data** is a machine learning term that refers to the dataset used to teach our Decision Tree to make the predictions for our missing values using available data."
   ]
  },
  {
   "cell_type": "markdown",
   "id": "874fc63a-d033-410b-a080-adce8dd7185c",
   "metadata": {},
   "source": [
    "**A)** Let's start by loading our training data into the notebook:\n",
    "\n",
    "The data that you need for these lessons are stored in a Google Cloud Storage bucket. Before you begin these files will need to be copied from the bucket to your notebook using the `gsutil` utility. For more information, see [NIH CloudLab's documentation](https://scan.cloud.nih.gov/resources/cloudlab/google-cloud-jumpstart/#cli)."
   ]
  },
  {
   "cell_type": "code",
   "execution_count": null,
   "id": "3ea8f894-d160-40e1-b6a4-6f837a7ca963",
   "metadata": {
    "tags": []
   },
   "outputs": [],
   "source": [
    "# Download the data from Google Cloud Storage with gsutil\n",
    "!gsutil cp gs://nigms-sandbox/nosi-sfsu/data/* ."
   ]
  },
  {
   "cell_type": "code",
   "execution_count": null,
   "id": "caab38bd-bbb1-478b-b17c-8bd15bd07802",
   "metadata": {
    "tags": []
   },
   "outputs": [],
   "source": [
    "# This opens the file that contains the training data, data used to train the algorithm \n",
    "S2020_training = pd.read_csv(\"S2020_training.csv\")"
   ]
  },
  {
   "cell_type": "markdown",
   "id": "cbaf2e30-2eaf-4a21-9932-99d7bf8c22ba",
   "metadata": {},
   "source": [
    "**B)** Make sure that your dataset is loaded correctly, it should contain the county names and all the data highlighted in green shown in our last picture:"
   ]
  },
  {
   "cell_type": "code",
   "execution_count": null,
   "id": "3eabc08f-2002-4adb-b380-08c26ef968a6",
   "metadata": {
    "tags": []
   },
   "outputs": [],
   "source": [
    "# This will display the entire dataset \n",
    "S2020_training"
   ]
  },
  {
   "cell_type": "markdown",
   "id": "d2eb357a-859b-446d-bfed-514d0c20f819",
   "metadata": {},
   "source": [
    "**C)** We can sneak a peek at what our first 5 rows look like, if your dataset is too big to be displayed."
   ]
  },
  {
   "cell_type": "code",
   "execution_count": null,
   "id": "1d1b826c-2346-4452-80db-cc34a731856c",
   "metadata": {
    "tags": []
   },
   "outputs": [],
   "source": [
    "# This will display only the first 5 rows of our dataset\n",
    "S2020_training.head()"
   ]
  },
  {
   "cell_type": "markdown",
   "id": "c1fafa09-54f7-422b-9f77-07d816beb038",
   "metadata": {},
   "source": [
    "**D)** Here we can see how many rows and columns the complete dataset actually has. In our example we should have (40 rows, 11 columns)"
   ]
  },
  {
   "cell_type": "code",
   "execution_count": null,
   "id": "af0570f1-4334-4be4-90fc-08aa4c425cb0",
   "metadata": {
    "tags": []
   },
   "outputs": [],
   "source": [
    "# This will display only the number of rows (not including the title of the columns) and number of colums of our dataset\n",
    "S2020_training.shape"
   ]
  },
  {
   "cell_type": "markdown",
   "id": "5e1e56f1-3454-4d23-8654-44d4a0d29f81",
   "metadata": {},
   "source": [
    "### Step 3) Separate the training dataset into features and labels"
   ]
  },
  {
   "cell_type": "code",
   "execution_count": null,
   "id": "b261c100-55d5-4d4d-b052-16d033395e30",
   "metadata": {
    "tags": []
   },
   "outputs": [],
   "source": [
    "#Run the command below to watch the video\n",
    "from IPython.display import YouTubeVideo\n",
    "\n",
    "YouTubeVideo('qh8C0QRECWU', width=800, height=400)"
   ]
  },
  {
   "cell_type": "markdown",
   "id": "435f149e-a9fe-4b6b-be5d-3033fb6d84d0",
   "metadata": {},
   "source": [
    "Recall that a Decision Tree is a **supervised** machine learning model, therefore we need to specify clearly what we are trying to predict.\n",
    "\n",
    "To do this we need to divide the training data into **labels** and **features**\n",
    "\n",
    "![Label-and-Features.jpg](images/Label-and-Features.jpg)\n",
    "\n",
    "- The RED outlined column is called a **LABEL**. This is a machine learning term that refers to the data that our model will learn to predict.\n",
    "\n",
    "- The BLUE outlined columns are called **FEATURES**, which is the term that refers to the columns we would like to use to predict our chosen LABEL. \n",
    "\n",
    "Because the **training data** is complete, we can clearly separate LABEL from FEATURES. Remember that the training data is only the red and blue shaded regions of our dataset. \n",
    "\n",
    "We can ignore the rest of the dataset for now.\n",
    "\n",
    "**A)** Separate the training data into features and labels:"
   ]
  },
  {
   "cell_type": "code",
   "execution_count": null,
   "id": "7feef3b4-b0b8-41d0-b4b1-c1294753bd3f",
   "metadata": {
    "tags": []
   },
   "outputs": [],
   "source": [
    "# On the other hand the label will only include summer_2020 cases per 100 000\n",
    "S2020_training_labels = S2020_training[\"cases_per_100000\"]\n",
    "\n",
    "# Notice that in this code we are droping the \"county\" column, because it does not contribute with our predictions and \"cases_per_100000\" because that is our label\n",
    "S2020_training_features = S2020_training.drop(columns=[\"county\",\"cases_per_100000\"])"
   ]
  },
  {
   "cell_type": "markdown",
   "id": "775e163b-ac56-40c8-a12c-89f13bfbce30",
   "metadata": {},
   "source": [
    "**B)** Run the **LABEL** to check that the separation was correctly performed (you should see 40 rows and just 1 column):"
   ]
  },
  {
   "cell_type": "code",
   "execution_count": null,
   "id": "49d72928-e153-4617-808d-9fb0140ef3dd",
   "metadata": {
    "tags": []
   },
   "outputs": [],
   "source": [
    "# This code allows you to see what the labels look like as a dataframe, after being separated from the training data\n",
    "S2020_training_labels = pd.DataFrame(S2020_training_labels,columns = [\"cases_per_100000\"])\n",
    "\n",
    "# This code tells you how many rows and columns this dataset has\n",
    "S2020_training_labels.shape"
   ]
  },
  {
   "cell_type": "markdown",
   "id": "05b69eb8-d593-453b-9786-432dd425c612",
   "metadata": {},
   "source": [
    "**C)** Run the **FEATURES** to check that the separation was correctly performed (you should see all 40 rows and 9 columns only since we dropped the columns of \"county\" and \"cases_per_100000\")"
   ]
  },
  {
   "cell_type": "code",
   "execution_count": null,
   "id": "1a75f401-1966-4628-b4fc-ee285bc8a595",
   "metadata": {
    "tags": []
   },
   "outputs": [],
   "source": [
    "# This code shows\n",
    "S2020_training_features.shape"
   ]
  },
  {
   "cell_type": "code",
   "execution_count": null,
   "id": "3c55a9ca-5d66-4bd2-aaa5-82ce6ee305a6",
   "metadata": {
    "tags": []
   },
   "outputs": [],
   "source": [
    "display_quiz('quiz_files/quiz2.json')"
   ]
  },
  {
   "cell_type": "markdown",
   "id": "6a76b309-f312-425f-a4ac-e2ef7dacbfe0",
   "metadata": {},
   "source": [
    "### Step 4) Create a Decision Tree object and train it"
   ]
  },
  {
   "cell_type": "code",
   "execution_count": null,
   "id": "d8b5abf2-94fe-4e2d-b24a-3b185b08c88e",
   "metadata": {
    "tags": []
   },
   "outputs": [],
   "source": [
    "#Run the command below to watch the video\n",
    "from IPython.display import YouTubeVideo\n",
    "\n",
    "YouTubeVideo('M6gY_JywOys', width=800, height=400)"
   ]
  },
  {
   "cell_type": "markdown",
   "id": "e82423a6-36cc-4898-aacb-727f98e9ffc1",
   "metadata": {},
   "source": [
    "After separating our training data into features and labels, we can now create a Decision Tree. \n",
    "\n",
    "**A)** Create a Decision Tree object"
   ]
  },
  {
   "cell_type": "code",
   "execution_count": null,
   "id": "1af78ddd-dc00-4298-9732-94684886a7b7",
   "metadata": {
    "tags": []
   },
   "outputs": [],
   "source": [
    "# This line creates the Decison Tree with your chosen specifications (what is written within the parentheses)\n",
    "dtr_summer2020 = DecisionTreeRegressor(random_state = 1, max_depth= 3)"
   ]
  },
  {
   "cell_type": "markdown",
   "id": "9a337b10-ecaf-4b2e-921f-5b830ac4f7a2",
   "metadata": {},
   "source": [
    "**B)** Train our Decision Tree using the training data we separated in the previous step"
   ]
  },
  {
   "cell_type": "code",
   "execution_count": null,
   "id": "ac3b1e35-0609-4f64-bac6-c42537cb3694",
   "metadata": {
    "tags": []
   },
   "outputs": [],
   "source": [
    "# This line trains the decision tree using both the features and the label from our training data\n",
    "dtr_summer2020 = dtr_summer2020.fit(S2020_training_features,S2020_training_labels)"
   ]
  },
  {
   "cell_type": "markdown",
   "id": "dbaec858-5a15-4727-b9fb-ac1d6bd08fd8",
   "metadata": {},
   "source": [
    "### Step 5) Visualize our trained Decision Tree"
   ]
  },
  {
   "cell_type": "code",
   "execution_count": null,
   "id": "c8c03608-f9d7-43d0-abd3-757b6196023e",
   "metadata": {
    "tags": []
   },
   "outputs": [],
   "source": [
    "#Run the command below to watch the video\n",
    "from IPython.display import YouTubeVideo\n",
    "\n",
    "YouTubeVideo('cFk6vmfU48w', width=800, height=400)"
   ]
  },
  {
   "cell_type": "markdown",
   "id": "96d80ff1-924c-4aef-ad9d-68634911deb9",
   "metadata": {},
   "source": [
    "Visualize our Decision Tree by graphing it using the following code "
   ]
  },
  {
   "cell_type": "code",
   "execution_count": null,
   "id": "68789480-9f14-43ab-b49a-145bf462b132",
   "metadata": {
    "tags": []
   },
   "outputs": [],
   "source": [
    "# Initialize tree data object \n",
    "dtr_summer2020_dot = tree.export_graphviz(dtr_summer2020, out_file=None, \n",
    "                                feature_names=S2020_training_features.columns,  \n",
    "                                filled=False, rounded=True, impurity=False)\n",
    "\n",
    "# Draw graph\n",
    "dtr_graph = graphviz.Source(dtr_summer2020_dot, format=\"png\") \n",
    "dtr_graph"
   ]
  },
  {
   "cell_type": "markdown",
   "id": "4b6af3a1-3ba0-4759-9883-6d03123548ae",
   "metadata": {},
   "source": [
    "### Let's try to understand what our tree learned!\n",
    "\n",
    "- **NODES** contain the decision that must be made based on a particular criteria. You can see that nodes have 2 arrows pointing away from them. All arrows to the LEFT are taken when the criteria is satisfied, and all arrows to the RIGHT are taken when this criteria is not satisfied.\n",
    "\n",
    "- **ROOT NODE**, this node is what our model determined as the most important feature to consider when making our predictions. It tells you the feature that best splits the data and it's located at the top of the tree.\n",
    "\n",
    "- **LEAVES** contain the final outcome of the decision path. You can see that leaves do not have arrows pointing away from them."
   ]
  },
  {
   "cell_type": "markdown",
   "id": "9dd48904-36b7-4747-b9e9-8b6c985ff049",
   "metadata": {},
   "source": [
    "### Step 6) Make predictions using Testing data with our trained Decision Tree"
   ]
  },
  {
   "cell_type": "code",
   "execution_count": null,
   "id": "5d0d1906-bc34-4a59-b05f-99167175ac7c",
   "metadata": {
    "tags": []
   },
   "outputs": [],
   "source": [
    "#Run the command below to watch the video\n",
    "from IPython.display import YouTubeVideo\n",
    "\n",
    "YouTubeVideo('LtD93dB5JzU', width=800, height=400)"
   ]
  },
  {
   "cell_type": "markdown",
   "id": "c56def25-4c94-4de1-a0a8-02b5075988eb",
   "metadata": {},
   "source": [
    "We are now ready to make predictions for the counties that had the missing labels.\n",
    "\n",
    "**Below is an image showing what constitutes the testing data in our example**\n",
    "\n",
    "![Testing-Data.jpg](images/Testing-Data.jpg)\n",
    " \n",
    "In machine learning we usually call the part of the dataset that only contains the FEATURE columns as **testing data**. \n",
    "\n",
    "The **testing data** is the dataset that is used to predict the missing values of the LABEL column, based on the rules learned during the training phase.\n",
    "\n",
    "Recall that our Decision Tree model has only been taught using the training data (40 counties) and has never seen any of the columns of the testing data (18 counties)."
   ]
  },
  {
   "cell_type": "markdown",
   "id": "20da60cd-48c3-4acb-be33-dc4565d3947a",
   "metadata": {},
   "source": [
    "**A)** Let's load the testing data that correspond to the counties with the missing label and see what it looks like."
   ]
  },
  {
   "cell_type": "code",
   "execution_count": null,
   "id": "d5c75c05-745c-4c0c-bf31-c839e43c9ed5",
   "metadata": {
    "tags": []
   },
   "outputs": [],
   "source": [
    "# This opens the file that contains the testing data features, features = data used to make a prediction\n",
    "S2020_testing_features = pd.read_csv(\"S2020_test_features.csv\")\n",
    "\n",
    "# This lets you see the loaded testing data \n",
    "S2020_testing_features"
   ]
  },
  {
   "cell_type": "markdown",
   "id": "046ef181-0158-4fb3-a726-42046fa4e713",
   "metadata": {},
   "source": [
    "**B)** Lets drop the county names from the dataset and make our predictions!"
   ]
  },
  {
   "cell_type": "code",
   "execution_count": null,
   "id": "c9062cad-cde4-4596-a7e5-08203fd77dd7",
   "metadata": {
    "tags": []
   },
   "outputs": [],
   "source": [
    "# This drops the \"county\" column from our test dataset\n",
    "S2020_features_test_nocounty = S2020_testing_features.drop(columns=[\"county\"])\n",
    "\n",
    "# This uses the tree we created and makes the predictions\n",
    "S2020_labels_pred = dtr_summer2020.predict(S2020_features_test_nocounty)"
   ]
  },
  {
   "cell_type": "markdown",
   "id": "33e5fb42-21b8-4983-ade9-83182ef070a4",
   "metadata": {},
   "source": [
    "**C.1)** Let's look at what labels our model predicted and check how it relates to our Decision Tree:\n",
    "\n",
    "![COVID-Decision-Tree.PNG](images/COVID-Decision-Tree.PNG)"
   ]
  },
  {
   "cell_type": "code",
   "execution_count": null,
   "id": "2b43dd45-625b-4495-9cb8-2bd08e459d75",
   "metadata": {
    "tags": []
   },
   "outputs": [],
   "source": [
    "# This turns our predictions (which is currently an array) into a dataframe \n",
    "S2020_labels_preds_df = pd.DataFrame(S2020_labels_pred, columns=[\"Predicted\"])\n",
    "\n",
    "# This line adds the county name back, so that you can see what was predicted for each county\n",
    "S2020_labels_preds_df = pd.concat([S2020_testing_features[\"county\"].reset_index(drop=True),S2020_labels_preds_df.reset_index(drop=True)],axis=1)\n",
    "\n",
    "# This lets us see what was predicted\n",
    "S2020_labels_preds_df.round(3)"
   ]
  },
  {
   "cell_type": "markdown",
   "id": "9c5c9ddc-f972-424a-baaf-e5876ff0d847",
   "metadata": {},
   "source": [
    "**C.2)** Why did the model predict 702.806 for San Francisco County?\n",
    "\n",
    "Run the cell bellow and look at the output, follow the tree as described in the video to see that this county has: \n",
    "- Unemployment Rate =< 0.123\n",
    "- Population > 28453.0\n",
    "- Green_votes_percentage > 0.005\n",
    "\n",
    "Feel free to try another county and check for yourself that it follows these rules, by changing the county name in the code below:"
   ]
  },
  {
   "cell_type": "code",
   "execution_count": null,
   "id": "ff7dd8fa-a9b3-4570-923a-882f198d53b3",
   "metadata": {
    "tags": []
   },
   "outputs": [],
   "source": [
    "# Loading the testing features for San Francisco County\n",
    "S2020_testing_features[S2020_testing_features['county']=='San Francisco'] # change 'San Francisco' to any other county in the list above that you are interested in"
   ]
  },
  {
   "cell_type": "code",
   "execution_count": null,
   "id": "f295afb6-142f-4d8e-9ef3-5658916f3624",
   "metadata": {
    "tags": []
   },
   "outputs": [],
   "source": [
    "display_quiz('quiz_files/quiz3.json')"
   ]
  },
  {
   "cell_type": "markdown",
   "id": "aff22ea7-270b-47dd-ba7f-a2a62ba1cfe5",
   "metadata": {},
   "source": [
    "### Step 7) Let's see how our Decision Tree model performed"
   ]
  },
  {
   "cell_type": "code",
   "execution_count": null,
   "id": "9a11c706-b8ba-4b5c-bfde-eed545a00248",
   "metadata": {
    "tags": []
   },
   "outputs": [],
   "source": [
    "#Run the command below to watch the video\n",
    "from IPython.display import YouTubeVideo\n",
    "\n",
    "YouTubeVideo('0VK4sLz2wrc', width=800, height=400)"
   ]
  },
  {
   "cell_type": "markdown",
   "id": "a9d8738a-f8b2-4679-9ed5-d7748aaf6bf9",
   "metadata": {},
   "source": [
    "Now that we have predicted the missing labels for Summer 2020 cases, let's see how our model did by comparing it with the actual labels!\n",
    "\n",
    "**A)** Let's reveal now our ACTUAL labels by loading them into the notebook"
   ]
  },
  {
   "cell_type": "code",
   "execution_count": null,
   "id": "3cd40255-1bd5-4d11-8f6f-1b9bd29718c0",
   "metadata": {
    "tags": []
   },
   "outputs": [],
   "source": [
    "# This opens the file that contains the testing data labels, label = what we want to predict\n",
    "S2020_testing_labels = pd.read_csv(\"S2020_test_labels.csv\")\n",
    "\n",
    "# This drops the county on our label data so that the dataframe only has one column with county names when is joined with the predicted dataframe\n",
    "S2020_testing_labels = S2020_testing_labels.drop(columns=[\"county\"])"
   ]
  },
  {
   "cell_type": "markdown",
   "id": "4037a417-05e3-43e5-b63e-a3562da3c44b",
   "metadata": {},
   "source": [
    "**B)** We can use a bar graph to help us visually inspect how our model performed"
   ]
  },
  {
   "cell_type": "code",
   "execution_count": null,
   "id": "e7cc9c31-b0cd-4bd6-a544-4c0b143d50c8",
   "metadata": {
    "tags": []
   },
   "outputs": [],
   "source": [
    "# This puts into a single dataframe our predictions with our original test labels \n",
    "pred_vs_test_2020 = pd.concat([S2020_testing_labels.reset_index(drop=True),S2020_labels_preds_df.reset_index(drop=True)],axis=1)\n",
    "\n",
    "# Reorganize the order of columns\n",
    "pred_vs_test_2020 = pred_vs_test_2020.loc[:,[\"county\", \"cases_per_100000\",\"Predicted\"]]\n",
    "\n",
    "# This plots the data in a barchart per county\n",
    "pred_vs_test_plot = pred_vs_test_2020.plot.barh(color={\"Predicted\": \"orange\", \"cases_per_100000\": \"darkblue\"},x=\"county\",figsize=(15,15), yticks=np.arange(0,4000,500))\n"
   ]
  },
  {
   "cell_type": "markdown",
   "id": "0ae29213-1635-4a51-9593-20a59bf2a60e",
   "metadata": {},
   "source": [
    "### Step 8) Let's try using our Summer 2020 tree model to predict 2021 data"
   ]
  },
  {
   "cell_type": "code",
   "execution_count": null,
   "id": "fee74988-b620-4941-89f1-1d6ebb5ef0cc",
   "metadata": {
    "tags": []
   },
   "outputs": [],
   "source": [
    "#Run the command below to watch the video\n",
    "from IPython.display import YouTubeVideo\n",
    "\n",
    "YouTubeVideo('2r3ZpwM6xDQ', width=800, height=400)"
   ]
  },
  {
   "cell_type": "markdown",
   "id": "e6d838dc-e9fe-4721-b866-07068f5126b3",
   "metadata": {},
   "source": [
    "**A)** Let's load the features information for the same 18 counties, but this time for Summer 2021."
   ]
  },
  {
   "cell_type": "code",
   "execution_count": null,
   "id": "3712f5eb-75ad-4f96-9106-9b51a19c0831",
   "metadata": {
    "tags": []
   },
   "outputs": [],
   "source": [
    "# Importing Summer 2021 data to predict using \"Summer2020 Model\"\n",
    "S2021_testing_features = pd.read_csv(\"S2021_test_features.csv\")\n",
    "\n",
    "# Make predictions for Summer 2021 Data\n",
    "S2021_labels_pred = dtr_summer2020.predict(S2021_testing_features.drop(columns=[\"county\"]))"
   ]
  },
  {
   "cell_type": "markdown",
   "id": "1c8d062d-42b2-419c-a703-a3a4537fdfb0",
   "metadata": {},
   "source": [
    "**B)** Let's now load the actual Summer 2021 data and see how our 2020 Decision Tree model performed this time."
   ]
  },
  {
   "cell_type": "code",
   "execution_count": null,
   "id": "7212fb89-7ff6-488c-907e-0177ccacb6bf",
   "metadata": {
    "tags": []
   },
   "outputs": [],
   "source": [
    "# Importing labels of Summer 2021 data to check accuracy of \"Summer2020 Model\" predicting Summer2021 Data\n",
    "S2021_testing_labels = pd.read_csv(\"S2021_test_labels.csv\")\n",
    "\n",
    "# This turns our predictions (which is currently an array) into a dataframe \n",
    "S2021_labels_preds = pd.DataFrame(S2021_labels_pred, columns=[\"Predicted\"])\n",
    "\n",
    "# This puts into a single dataframe our predictions with our original test labels \n",
    "pred_vs_test_2021 = pd.concat([S2021_testing_labels.reset_index(drop=True),S2021_labels_preds.reset_index(drop=True)],axis=1)\n",
    "\n",
    "# Visualize performance for Summer 2021 predictions\n",
    "pred_vs_test_plot = pred_vs_test_2021.plot.barh(color={\"Predicted\": \"orange\", \"cases_per_100000\": \"teal\"},x=\"county\",figsize=(15,15), yticks=np.arange(0,4000,500))"
   ]
  },
  {
   "cell_type": "markdown",
   "id": "5cc98d6b-7118-4d3f-a144-a8b8e55d2cde",
   "metadata": {},
   "source": [
    "**C)** Another way to look at the difference in performance between predictions made by the model for 2020 vs 2021 data is to observe their difference in errors.\n",
    "\n",
    "We can see that for 2020 the histogram (Blue) of errors is closer overall to 0 ranging from -500 to 500, whereas the histogram of errors for 2021 (Orange) are all over the place ranging from -1000 to 2500"
   ]
  },
  {
   "cell_type": "code",
   "execution_count": null,
   "id": "332a67fd-30ec-4acd-bba3-7ce9855a3786",
   "metadata": {
    "tags": []
   },
   "outputs": [],
   "source": [
    "# Create columns holding error between actual rate vs. predicted rate\n",
    "pred_vs_test_2020['residual'] = pred_vs_test_2020['cases_per_100000'] - pred_vs_test_2020['Predicted']\n",
    "pred_vs_test_2021['residual'] = pred_vs_test_2021['cases_per_100000'] - pred_vs_test_2021['Predicted']\n",
    "\n",
    "# Plot errors on histogram\n",
    "plt.title('Cases per 100k Prediction Errors')\n",
    "plt.hist(pred_vs_test_2020['residual'], alpha=0.5, label='2020 data')\n",
    "plt.hist(pred_vs_test_2021['residual'], alpha=0.5, label='2021 data')\n",
    "plt.legend(loc='upper right')\n",
    "plt.show()"
   ]
  },
  {
   "cell_type": "markdown",
   "id": "78323de1-ec64-43d3-a21d-cf93d97db995",
   "metadata": {},
   "source": [
    "**D)** A more formal way to calculate the performance for the model is to calculate the Root Mean Square Error (RMSE). Feel free to browse the **(Optional) Quant. Comparison of 2020 DT Model Performance for (2020 vs 2021) Data** for more details about this particular metric."
   ]
  },
  {
   "cell_type": "code",
   "execution_count": null,
   "id": "374a7f45-8bea-4b97-9ba5-12eec94e34a5",
   "metadata": {
    "tags": []
   },
   "outputs": [],
   "source": [
    "# This prints the RMSE value for the performance of the model using 2020 Data\n",
    "print(f\"RMSE on 2020 test set: {mean_squared_error(pred_vs_test_2020['cases_per_100000'], pred_vs_test_2020['Predicted'], squared=False)}\")"
   ]
  },
  {
   "cell_type": "code",
   "execution_count": null,
   "id": "2a4fe185-6b1c-47e0-ba16-4a181d47661c",
   "metadata": {
    "tags": []
   },
   "outputs": [],
   "source": [
    "# This prints the RMSE value for the performance of the model using 2020 Data\n",
    "print(f\"RMSE on 2021 test set: {mean_squared_error(pred_vs_test_2021['cases_per_100000'], pred_vs_test_2020['Predicted'], squared=False)}\")"
   ]
  },
  {
   "cell_type": "markdown",
   "id": "6ef11332-1228-4fe5-97f0-a4fb5ae924bf",
   "metadata": {},
   "source": [
    "#### Please run the additional cell below to save a csv copy of the predicted and actual values made by our 2020 model for the years (2020 and 2021)"
   ]
  },
  {
   "cell_type": "code",
   "execution_count": null,
   "id": "e2ba12ba-dfb4-4b44-98c0-e2fdb0226a86",
   "metadata": {
    "tags": []
   },
   "outputs": [],
   "source": [
    "# Lets's save our comparison dataframes as a CSV file for a more quantitative analysis\n",
    "# We will revisit these in the next notebook.\n",
    "pred_vs_test_2020.to_csv('Model2020pred_vs_test_2020.csv', encoding='utf-8',index=False)\n",
    "pred_vs_test_2021.to_csv('Model2020pred_vs_test_2021.csv', encoding='utf-8',index=False)"
   ]
  },
  {
   "cell_type": "markdown",
   "id": "3232e1d1-6190-4dcc-8747-621fd78ccbfd",
   "metadata": {},
   "source": [
    "# Conclusion\n",
    "\n",
    "Congratulations on completing the \"Introduction to Machine Learning: Decision Trees\" module! Throughout this noteboook, you have gained a foundational understanding of Decision Trees, a fundamental machine learning technique. By working with real-world COVID-19 data from California, you have learned how to: \n",
    "\n",
    "1. **Understand Decision Trees:** \n",
    "    Recognize how Decision Trees function as supervised machine learning models, making predicitons based on learned decision rules.\n",
    "2. **Prepare Data:** Load, inspect, and preprocess data to separate it into features and labels, crucial steps for training machine learning models. \n",
    "3. **Train a Model:** \n",
    "    Create and train a Decision Tree model using the training dataset. \n",
    "4. **Visualize and Interpret:**\n",
    "    Visualize the trained Decision Tree and understand the decision-making process at each node. \n",
    "5. **Make Predictions**\n",
    "    Use the trained model to predict missing vlaues in the dataset and evaluate its performance. \n",
    "6. **Evalue Performance:**\n",
    "    Compare the model's predictions to actual values using visualizations and quantitative metrics such as Root Mean Square Error (RMSE). \n",
    "    \n",
    "This module has equipped you with the skills to apply Decision Trees to various datasets and understand their potential and limitations. Remember, Decision Trees are the foundation for more complex models like Boosted Trees and Random Forests. \n",
    "\n",
    "We hope you found this module informative and engaging. Keep experimenting with different datasets and machine learning techniques to further enhance your skills. Happy learning! "
   ]
  },
  {
   "cell_type": "markdown",
   "id": "5f15de83-339b-4d21-94c2-9cd5a5be6a92",
   "metadata": {
    "tags": []
   },
   "source": [
    "# Clean up \n",
    "\n",
    "To keep your workspaced organized remember to: \n",
    "\n",
    "1. Save your work.\n",
    "2. Close any notebooks and active sessions to avoid extra charges.\n"
   ]
  },
  {
   "cell_type": "markdown",
   "id": "b473022e-a62b-4f82-a7cf-565dd2691168",
   "metadata": {},
   "source": [
    "## *Acknowledgments*\n",
    "\n",
    "This notebook was created by Lucy Moctezuma Tan, Florentine van Nouhuijs, Lorena Benitez-Rivera (SFSU master's students and CoDE lab members), and Pleuni Pennings (SFSU bio professor).\n",
    "Special acknowledgment to Faye Orcales for pulling the COVID data tables from government websites.\n"
   ]
  }
 ],
 "metadata": {
  "environment": {
   "kernel": "python3",
   "name": "common-cpu.m114",
   "type": "gcloud",
   "uri": "gcr.io/deeplearning-platform-release/base-cpu:m114"
  },
  "kernelspec": {
   "display_name": "conda_python3",
   "language": "python",
   "name": "conda_python3"
  },
  "language_info": {
   "codemirror_mode": {
    "name": "ipython",
    "version": 3
   },
   "file_extension": ".py",
   "mimetype": "text/x-python",
   "name": "python",
   "nbconvert_exporter": "python",
   "pygments_lexer": "ipython3",
   "version": "3.10.14"
  }
 },
 "nbformat": 4,
 "nbformat_minor": 5
}
