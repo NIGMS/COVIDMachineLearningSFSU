{
 "cells": [
  {
   "cell_type": "markdown",
   "id": "423e9402-a82b-4834-a3a0-931a2c685ba7",
   "metadata": {},
   "source": [
    "# **Let's make a NEW Decision Tree for Summer 2021 and improve our predictions!**\n",
    "\n",
    "In order to expedite the making of the NEW Decision Tree, we can skip a few steps, and only copy-paste the required lines of code.\n",
    "\n",
    "*   You DON'T need to copy-paste the comments from the original code (the green text that is preceded by \"#\"). \n",
    "*   Follow instead the instructions written as a comment in this following exercise to create a NEW Decision Tree for Summer 2021 data.\n",
    "\n",
    "### **Walkthrough Solution:**\n",
    "If you feel stuck on this exercise feel free to follow the video walkthrough below by **Florentine**"
   ]
  },
  {
   "cell_type": "code",
   "execution_count": null,
   "id": "536f933f-a925-4fe9-945b-87c48fb98ecb",
   "metadata": {},
   "outputs": [],
   "source": [
    "#Run the command below to watch the video\n",
    "from IPython.display import YouTubeVideo\n",
    "\n",
    "YouTubeVideo('eHI4wMjSGuU', width=800, height=400)"
   ]
  },
  {
   "cell_type": "markdown",
   "id": "b1e1a46d-6e6c-4386-a0ca-0fcb19009e26",
   "metadata": {},
   "source": [
    "## **1) Repeat Step 1 (Importing Necessary Packages)**"
   ]
  },
  {
   "cell_type": "code",
   "execution_count": null,
   "id": "ce366147-fc2c-416d-8f28-325bacbb28e3",
   "metadata": {},
   "outputs": [],
   "source": []
  },
  {
   "cell_type": "markdown",
   "id": "54218111-757c-4b75-80aa-2754ffd916df",
   "metadata": {},
   "source": [
    "## **2) Repeat Step 2A (Loading 2021 Training Data)**\n",
    "##### **NOTES: When you copy-paste code, don't forget to change 2020 into 2021, every time you see it, including the links!!** "
   ]
  },
  {
   "cell_type": "code",
   "execution_count": null,
   "id": "5812834c-28ec-492e-bebf-0e5cc34d4270",
   "metadata": {},
   "outputs": [],
   "source": []
  },
  {
   "cell_type": "markdown",
   "id": "d98ca761-0f7c-4f5e-acf4-05331b993b22",
   "metadata": {},
   "source": [
    "## **3) Repeat Step 3A (Separate Training Data into LABEL and FEATURES)**\n",
    "SKIP:\n",
    "- Steps 3B and 3C, since this step was only done to allow you to see what the labels look like once we separated it from our main training data.\n",
    "\n",
    "##### **NOTE: When you copy-paste code, don't forget to change 2020 into 2021, every time you see it!!** "
   ]
  },
  {
   "cell_type": "code",
   "execution_count": null,
   "id": "966fee45-4f0d-4f98-8819-a9543a6ab0bc",
   "metadata": {},
   "outputs": [],
   "source": []
  },
  {
   "cell_type": "markdown",
   "id": "26d25871-caa2-41b5-b800-6224932ec759",
   "metadata": {},
   "source": [
    "## **4) Repeat steps 4A and 4B (Create your Decision Tree and Train it!)**\n",
    "\n",
    "##### **NOTE: When you copy-paste code, don't forget to change 2020 into 2021, every time you see it!!** "
   ]
  },
  {
   "cell_type": "code",
   "execution_count": null,
   "id": "14883b4f-d547-4de2-b15e-1602f1c279ae",
   "metadata": {},
   "outputs": [],
   "source": []
  },
  {
   "cell_type": "markdown",
   "id": "d73e8261-7466-4845-b847-1088e2610828",
   "metadata": {},
   "source": [
    "## **5) Repeat step 5 (Visualize your 2021 Decision Tree)**\n",
    "\n",
    "##### **NOTE: When you copy-paste code, don't forget to change 2020 into 2021, every time you see it!!** "
   ]
  },
  {
   "cell_type": "code",
   "execution_count": null,
   "id": "b4eb80ad-bc43-4405-9dd4-c671933d6597",
   "metadata": {},
   "outputs": [],
   "source": []
  },
  {
   "cell_type": "markdown",
   "id": "f7c646d7-46c5-475c-a446-5decacb0f6df",
   "metadata": {},
   "source": [
    "## **6) Repeat step 6A, 6B, 6C (Load Testing Data and make your Predictions)**\n",
    "\n",
    "##### **NOTE: When you copy-paste code, don't forget to change 2020 into 2021, every time you see it!!** "
   ]
  },
  {
   "cell_type": "code",
   "execution_count": null,
   "id": "8dcb9a83-f172-4194-b2aa-0edcc534a191",
   "metadata": {},
   "outputs": [],
   "source": []
  },
  {
   "cell_type": "markdown",
   "id": "fbefce65-467c-46d0-abde-d02662c1d071",
   "metadata": {},
   "source": [
    "## **7) Repeat step 7A, 7B (Check the Accuracy of the Predictions of the new Model Created)**\n",
    "\n",
    "##### **NOTE: When you copy-paste code, don't forget to change 2020 into 2021, every time you see it!!** "
   ]
  },
  {
   "cell_type": "code",
   "execution_count": null,
   "id": "c3c6d248-22da-4ddf-b270-bdb5092863fd",
   "metadata": {},
   "outputs": [],
   "source": []
  },
  {
   "cell_type": "markdown",
   "id": "5b90d2e6-520b-4dd7-810d-85ae7586b009",
   "metadata": {},
   "source": [
    "## **8) Extra: (Calculate RMSE and create Aggregate error histograms)** \n",
    "\n",
    "Compare the performance between the model you just created in the practice session, with the old model performance by calculating the RMSE for both and creating an aggregate errors histogram depicting both models."
   ]
  },
  {
   "cell_type": "code",
   "execution_count": null,
   "id": "2d5b870e-9d3d-4a29-a237-0a7e0155d6c6",
   "metadata": {},
   "outputs": [],
   "source": []
  }
 ],
 "metadata": {
  "environment": {
   "kernel": "python3",
   "name": "common-cpu.m108",
   "type": "gcloud",
   "uri": "gcr.io/deeplearning-platform-release/base-cpu:m108"
  },
  "kernelspec": {
   "display_name": "Python 3",
   "language": "python",
   "name": "python3"
  },
  "language_info": {
   "codemirror_mode": {
    "name": "ipython",
    "version": 3
   },
   "file_extension": ".py",
   "mimetype": "text/x-python",
   "name": "python",
   "nbconvert_exporter": "python",
   "pygments_lexer": "ipython3",
   "version": "3.7.12"
  }
 },
 "nbformat": 4,
 "nbformat_minor": 5
}
