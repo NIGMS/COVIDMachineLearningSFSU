{
 "cells": [
  {
   "cell_type": "markdown",
   "id": "328b4b3b-e1b3-4490-8f76-0241ed6c3b5c",
   "metadata": {},
   "source": [
    "# **Let's make a NEW Decision Tree for Summer 2021 and improve our predictions!**\n",
    "\n",
    "In order to expedite the making of the NEW Decision Tree, we can skip a few steps, and only copy-paste the required lines of code.\n",
    "\n",
    "*   You DON'T need to copy-paste the comments from the orginal code (The green text that is preceded by \"#\"). \n",
    "*   Follow instead the instructions written as a comment in this following exercise to create a NEW Decision Tree for Summer 2021 Data."
   ]
  },
  {
   "cell_type": "markdown",
   "id": "b8848232-eb1d-430b-b854-2077de1862fd",
   "metadata": {},
   "source": [
    "## **1) Repeat Step 1 (Importing Necessary Packages)**"
   ]
  },
  {
   "cell_type": "code",
   "execution_count": null,
   "id": "fa4b42e6-ac15-4f05-be80-43593f07b5d2",
   "metadata": {},
   "outputs": [],
   "source": [
    "# Data Wrangling Imports\n",
    "import pandas as pd\n",
    "import numpy as np\n",
    "# Machine Learning Models Imports\n",
    "from sklearn import tree\n",
    "from sklearn.tree import DecisionTreeRegressor \n",
    "# Model Evaluation Imports and Visualization\n",
    "from matplotlib import pyplot as plt\n",
    "!pip install graphviz\n",
    "import graphviz"
   ]
  },
  {
   "cell_type": "markdown",
   "id": "6d623983-10a3-4f42-bebd-4045e2c29e98",
   "metadata": {},
   "source": [
    "## **2) Repeat Step 2A (Loading 2021 Training Data)**\n",
    "##### **NOTES: When you copy-paste code, don't forget to change 2020 into 2021, everytime you see it, including the links!!** "
   ]
  },
  {
   "cell_type": "code",
   "execution_count": null,
   "id": "de7771a0-9d83-4d94-8976-9595b83de3a2",
   "metadata": {},
   "outputs": [],
   "source": [
    "#Copy-paste the code from Step 2A that will load our Summer 2021 training data\n",
    "S2021_training= pd.read_csv(\"data/S2021_training.csv\")"
   ]
  },
  {
   "cell_type": "markdown",
   "id": "497c33d3-6611-476b-99e1-1e9309105962",
   "metadata": {},
   "source": [
    "## **3) Repeat Step 3A (Separate Training Data into LABEL and FEATURES)**\n",
    "SKIP:\n",
    "- Steps 3B and 3C, since this step was only done to allow you to see what the labels look like once we separated it from our main training data.\n",
    "\n",
    "##### **NOTE: When you copy-paste code, don't forget to change 2020 into 2021, everytime you see it!!** "
   ]
  },
  {
   "cell_type": "code",
   "execution_count": null,
   "id": "e12b600c-c282-4d2f-99b4-d3a6f78ab4fe",
   "metadata": {},
   "outputs": [],
   "source": [
    "#Copy-paste the code from Step 3A that separates the FEATURES & LABEL from the training data \n",
    "S2021_training_labels = S2021_training[\"cases_per_100000\"]\n",
    "S2021_training_features = S2021_training.drop(columns=[\"county\",\"cases_per_100000\"])"
   ]
  },
  {
   "cell_type": "markdown",
   "id": "b44cea28-b4c6-4aa0-b82a-9f4c6edecf3d",
   "metadata": {},
   "source": [
    "## **4) Repeat steps 4A and 4B (Create your Decision Tree and Train it!)**\n",
    "\n",
    "##### **NOTE: When you copy-paste code, don't forget to change 2020 into 2021, everytime you see it!!** "
   ]
  },
  {
   "cell_type": "code",
   "execution_count": null,
   "id": "b2ab294d-1f15-4adb-9e96-f3122fd146bb",
   "metadata": {},
   "outputs": [],
   "source": [
    "# Copy-paste the Code from Step 4A that will allow us to create our NEW Decision Tree\n",
    "dtr_summer2021 = DecisionTreeRegressor(random_state = 1, max_depth= 3)"
   ]
  },
  {
   "cell_type": "code",
   "execution_count": null,
   "id": "85b2db25-ee63-4ab7-8452-fcb52a013160",
   "metadata": {},
   "outputs": [],
   "source": [
    "# Copy-paste the Code from step 4B that will train our NEW Decision Tree\n",
    "dtr_summer2021 = dtr_summer2021.fit(S2021_training_features,S2021_training_labels)"
   ]
  },
  {
   "cell_type": "markdown",
   "id": "070c4b35-1119-4e9b-ae6d-bd00c1734f5b",
   "metadata": {},
   "source": [
    "## **5) Repeat step 5 (Visualize your 2021 Decision Tree)**\n",
    "\n",
    "##### **NOTE: When you copy-paste code, don't forget to change 2020 into 2021, everytime you see it!!** "
   ]
  },
  {
   "cell_type": "code",
   "execution_count": null,
   "id": "f9e07c94-5d4d-45b5-96d2-625fe9693c82",
   "metadata": {},
   "outputs": [],
   "source": [
    "# Copy-paste the code from step 5 that will let you see the New 2021 Decision Tree\n",
    "dtr_summer2021_dot = tree.export_graphviz(dtr_summer2021, out_file=None, \n",
    "                                feature_names=S2021_training_features.columns,  \n",
    "                                filled=False, rounded=True, impurity=False)\n",
    "\n",
    "# Draw graph\n",
    "dtr_graph = graphviz.Source(dtr_summer2021_dot, format=\"png\") \n",
    "dtr_graph"
   ]
  },
  {
   "cell_type": "markdown",
   "id": "e23a2bbb-591c-47f6-ad24-c413ca634cba",
   "metadata": {},
   "source": [
    "## **6) Repeat step 6A, 6B, 6C (Load Testing Data and make your Predictions)**\n",
    "\n",
    "##### **NOTE: When you copy-paste code, don't forget to change 2020 into 2021, everytime you see it!!** "
   ]
  },
  {
   "cell_type": "code",
   "execution_count": null,
   "id": "d4ce9399-0aa8-48d8-a540-3e8cbcdf7af6",
   "metadata": {},
   "outputs": [],
   "source": [
    "# Copy-paste the code from step 6A to load and see your Summer 2021 Testing data\n",
    "S2021_testing_features = pd.read_csv(\"data/S2021_test_features.csv\")\n",
    "S2021_testing_features"
   ]
  },
  {
   "cell_type": "code",
   "execution_count": null,
   "id": "541994e6-e8a8-4c89-b8a7-7baae502bb8a",
   "metadata": {},
   "outputs": [],
   "source": [
    "# Copy-paste the code from step 6B to drop the county out of the testing Data and make your predictions!\n",
    "S2021_features_test_nocounty = S2021_testing_features.drop(columns=[\"county\"])\n",
    "S2021_labels_pred = dtr_summer2021.predict(S2021_features_test_nocounty)"
   ]
  },
  {
   "cell_type": "code",
   "execution_count": null,
   "id": "66fceb09-7728-48ef-912f-4d6161d96f61",
   "metadata": {},
   "outputs": [],
   "source": [
    "# Copy-paste the code from step 6C to look at the lables that our new model has predicted\n",
    "S2021_labels_preds_df = pd.DataFrame(S2021_labels_pred, columns=[\"Predicted\"])\n",
    "S2021_labels_preds_df = pd.concat([S2021_testing_features[\"county\"].reset_index(drop=True),S2021_labels_preds_df.reset_index(drop=True)],axis=1)\n",
    "S2021_labels_preds_df"
   ]
  },
  {
   "cell_type": "markdown",
   "id": "188fd7b3-ad8c-4aae-a835-7dbb2be8bfe8",
   "metadata": {},
   "source": [
    "## **7) Repeat step 7A, 7B (Check the Accuracy of the Predictions of the new Model Created)**\n",
    "\n",
    "##### **NOTE: When you copy-paste code, don't forget to change 2020 into 2021, everytime you see it!!** "
   ]
  },
  {
   "cell_type": "code",
   "execution_count": null,
   "id": "3e355d76-dabe-489a-8c81-0d839235d183",
   "metadata": {},
   "outputs": [],
   "source": [
    "# Copy-paste the code from Step 7A to load our ACTUAL 2021 Labels and drop the county since it's not part of the labels per se\n",
    "S2021_testing_labels = pd.read_csv(\"data/S2021_test_labels.csv\")\n",
    "S2021_testing_labels = S2021_testing_labels.drop(columns=[\"county\"])"
   ]
  },
  {
   "cell_type": "code",
   "execution_count": null,
   "id": "ffd2bed9-c1bd-4c30-b869-cd8cf3c18870",
   "metadata": {},
   "outputs": [],
   "source": [
    "# Copy-paste the code from Step 7B to make a bargraph and inspect the Accuracy of your new 2021 Decision Tree Model\n",
    "pred_vs_test_2021 = pd.concat([S2021_testing_labels.reset_index(drop=True),S2021_labels_preds_df.reset_index(drop=True)],axis=1)\n",
    "pred_vs_test_plot = pred_vs_test_2021.plot.barh(color={\"Predicted\": \"hotpink\", \"cases_per_100000\": \"teal\"},x=\"county\",figsize=(15,15), yticks=np.arange(0,4000,500))"
   ]
  },
  {
   "cell_type": "markdown",
   "id": "4f751ca0-3db5-4f55-8acd-74afe0be5d9b",
   "metadata": {},
   "source": [
    "### **Walkthrough Solution:**\n",
    "If You feel stuck on this exercise feel free to follow the video walkthrough below by **Florentine"
   ]
  },
  {
   "cell_type": "code",
   "execution_count": null,
   "id": "951a16d6-d07a-4a83-8e6c-61f256ace1d7",
   "metadata": {},
   "outputs": [],
   "source": [
    "## Exercise Video Walkthrough with Florentine\n",
    "from IPython.display import HTML\n",
    "HTML('<iframe src=\"https://player.vimeo.com/video/714289066?title=0&byline=0&portrait=0\" width=\"700\" height=\"394\" frameborder=\"0\" webkitallowfullscreen mozallowfullscreen allowfullscreen></iframe><p><a href=\"https://vimeo.com/714289066\">Exercise Video Walkthrough</a> from <a href=\"https://vimeo.com/showcase/9557969/video/714289066\">Introduction to Machine Learning: Decision Trees</a> on <a href=\"https://vimeo.com\">Vimeo</a>.</p>')"
   ]
  }
 ],
 "metadata": {
  "environment": {
   "kernel": "python3",
   "name": "common-cpu.m99",
   "type": "gcloud",
   "uri": "gcr.io/deeplearning-platform-release/base-cpu:m99"
  },
  "kernelspec": {
   "display_name": "Python 3",
   "language": "python",
   "name": "python3"
  },
  "language_info": {
   "codemirror_mode": {
    "name": "ipython",
    "version": 3
   },
   "file_extension": ".py",
   "mimetype": "text/x-python",
   "name": "python",
   "nbconvert_exporter": "python",
   "pygments_lexer": "ipython3",
   "version": "3.7.12"
  }
 },
 "nbformat": 4,
 "nbformat_minor": 5
}
